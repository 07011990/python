{
 "cells": [
  {
   "cell_type": "code",
   "execution_count": 1,
   "metadata": {},
   "outputs": [],
   "source": [
    "import warnings\n",
    "warnings.filterwarnings('ignore')"
   ]
  },
  {
   "cell_type": "code",
   "execution_count": 2,
   "metadata": {},
   "outputs": [],
   "source": [
    "import pandas as pd\n",
    "import numpy as np\n",
    "import re\n",
    "from plotnine import *"
   ]
  },
  {
   "cell_type": "code",
   "execution_count": 3,
   "metadata": {},
   "outputs": [
    {
     "data": {
      "text/plain": [
       "'C:\\\\Users\\\\suyeon\\\\apt_bun'"
      ]
     },
     "execution_count": 3,
     "metadata": {},
     "output_type": "execute_result"
    }
   ],
   "source": [
    "%pwd"
   ]
  },
  {
   "cell_type": "code",
   "execution_count": 4,
   "metadata": {},
   "outputs": [
    {
     "name": "stdout",
     "output_type": "stream",
     "text": [
      " C 드라이브의 볼륨에는 이름이 없습니다.\n",
      " 볼륨 일련 번호: 4075-A7F9\n",
      "\n",
      " C:\\Users\\suyeon\\apt_bun 디렉터리\n",
      "\n",
      "2019-04-08  오후 10:21    <DIR>          .\n",
      "2019-04-08  오후 10:21    <DIR>          ..\n",
      "2019-04-08  오후 08:50    <DIR>          .ipynb_checkpoints\n",
      "2019-04-08  오후 09:12    <DIR>          data\n",
      "2019-04-08  오후 10:21            86,751 아파트분양가 분석 1.ipynb\n",
      "               1개 파일              86,751 바이트\n",
      "               4개 디렉터리  417,728,868,352 바이트 남음\n"
     ]
    }
   ],
   "source": [
    "%ls"
   ]
  },
  {
   "cell_type": "code",
   "execution_count": 5,
   "metadata": {},
   "outputs": [],
   "source": [
    "%matplotlib inline"
   ]
  },
  {
   "cell_type": "code",
   "execution_count": 6,
   "metadata": {},
   "outputs": [],
   "source": [
    "import matplotlib as mpl\n",
    "import matplotlib.pyplot as plt\n",
    "import matplotlib.font_manager as fm"
   ]
  },
  {
   "cell_type": "code",
   "execution_count": 7,
   "metadata": {},
   "outputs": [],
   "source": [
    "mpl.rcParams['axes.unicode_minus']=False"
   ]
  },
  {
   "cell_type": "code",
   "execution_count": 8,
   "metadata": {},
   "outputs": [
    {
     "data": {
      "text/plain": [
       "array([ -50, -114, -175,  -79, -132, -169, -146, -175, -186, -160, -113,\n",
       "        -27,  -44,   37,   58,  -36, -133, -181, -137,  -55,    8,  -41,\n",
       "         -8,  -18,  -60,  -56, -136,  -54,  -16, -108, -156, -184, -171,\n",
       "       -263, -314, -229, -153, -228, -208, -256, -325, -396, -306, -319,\n",
       "       -326, -339, -361, -318, -334, -358], dtype=int32)"
      ]
     },
     "execution_count": 8,
     "metadata": {},
     "output_type": "execute_result"
    }
   ],
   "source": [
    "import numpy as np\n",
    "data = np.random.randint(-100,100,50).cumsum()\n",
    "data"
   ]
  },
  {
   "cell_type": "code",
   "execution_count": 9,
   "metadata": {},
   "outputs": [
    {
     "data": {
      "text/plain": [
       "Text(0.5, 0, '시간(분)')"
      ]
     },
     "execution_count": 9,
     "metadata": {},
     "output_type": "execute_result"
    },
    {
     "data": {
      "image/png": "[encoded data removed]",
      "text/plain": [
       "<Figure size 432x288 with 1 Axes>"
      ]
     },
     "metadata": {
      "needs_background": "light"
     },
     "output_type": "display_data"
    }
   ],
   "source": [
    "plt.plot(range(50),data,'r')\n",
    "mpl.rcParams['axes.unicode_minus']=False\n",
    "plt.title('시간별 가격 추이')\n",
    "plt.ylabel('주식 가격')\n",
    "plt.xlabel('시간(분)')"
   ]
  },
  {
   "cell_type": "code",
   "execution_count": 10,
   "metadata": {},
   "outputs": [
    {
     "name": "stdout",
     "output_type": "stream",
     "text": [
      "버전 3.0.2\n",
      "설치 위치 C:\\ProgramData\\Anaconda3\\lib\\site-packages\\matplotlib\\__init__.py\n",
      "설정 위치 C:\\Users\\suyeon\\.matplotlib\n",
      "캐시 위치 C:\\Users\\suyeon\\.matplotlib\n"
     ]
    }
   ],
   "source": [
    "print('버전',mpl.__version__)\n",
    "print('설치 위치',mpl.__file__)\n",
    "print('설정 위치',mpl.get_configdir())\n",
    "print('캐시 위치',mpl.get_cachedir())"
   ]
  },
  {
   "cell_type": "code",
   "execution_count": 11,
   "metadata": {},
   "outputs": [
    {
     "name": "stdout",
     "output_type": "stream",
     "text": [
      "설정파일 위치:  C:\\ProgramData\\Anaconda3\\lib\\site-packages\\matplotlib\\mpl-data\\matplotlibrc\n"
     ]
    }
   ],
   "source": [
    "print('설정파일 위치: ',mpl.matplotlib_fname())"
   ]
  },
  {
   "cell_type": "code",
   "execution_count": 12,
   "metadata": {},
   "outputs": [],
   "source": [
    "font_list = fm.findSystemFonts(fontpaths=None,fontext='ttf')"
   ]
  },
  {
   "cell_type": "code",
   "execution_count": 13,
   "metadata": {},
   "outputs": [
    {
     "name": "stdout",
     "output_type": "stream",
     "text": [
      "663\n"
     ]
    }
   ],
   "source": [
    "print(len(font_list))"
   ]
  },
  {
   "cell_type": "code",
   "execution_count": 14,
   "metadata": {},
   "outputs": [
    {
     "name": "stdout",
     "output_type": "stream",
     "text": [
      "0\n"
     ]
    }
   ],
   "source": [
    "font_list_mac = fm.OSXInstalledFonts()\n",
    "print(len(font_list_mac))"
   ]
  },
  {
   "cell_type": "code",
   "execution_count": 15,
   "metadata": {},
   "outputs": [
    {
     "data": {
      "text/plain": [
       "['C:\\\\WINDOWS\\\\Fonts\\\\symbol.ttf',\n",
       " 'C:\\\\WINDOWS\\\\Fonts\\\\LSANSI.TTF',\n",
       " 'C:\\\\Windows\\\\Fonts\\\\ntailub.ttf',\n",
       " 'C:\\\\WINDOWS\\\\Fonts\\\\taile.ttf',\n",
       " 'C:\\\\Windows\\\\Fonts\\\\LG PC.ttf',\n",
       " 'C:\\\\Windows\\\\Fonts\\\\BROADW.TTF',\n",
       " 'C:\\\\WINDOWS\\\\Fonts\\\\Candaraz.ttf',\n",
       " 'C:\\\\WINDOWS\\\\Fonts\\\\micross.ttf',\n",
       " 'C:\\\\Windows\\\\Fonts\\\\timesbd.ttf',\n",
       " 'C:\\\\WINDOWS\\\\Fonts\\\\PER_____.TTF']"
      ]
     },
     "execution_count": 15,
     "metadata": {},
     "output_type": "execute_result"
    }
   ],
   "source": [
    "font_list[:10]"
   ]
  },
  {
   "cell_type": "code",
   "execution_count": 16,
   "metadata": {},
   "outputs": [
    {
     "data": {
      "text/plain": [
       "[]"
      ]
     },
     "execution_count": 16,
     "metadata": {},
     "output_type": "execute_result"
    }
   ],
   "source": [
    "f = [f.name for f in fm.fontManager.ttflist]\n",
    "[(f.name,f.fname) for f in fm.fontManager.ttflist if 'Nanum' in f.name]"
   ]
  },
  {
   "cell_type": "code",
   "execution_count": null,
   "metadata": {},
   "outputs": [],
   "source": []
  },
  {
   "cell_type": "code",
   "execution_count": null,
   "metadata": {},
   "outputs": [],
   "source": []
  },
  {
   "cell_type": "code",
   "execution_count": 17,
   "metadata": {},
   "outputs": [],
   "source": [
    "pre_sale = pd.read_csv('data/korea_201807.csv',encoding='euc-kr')"
   ]
  },
  {
   "cell_type": "code",
   "execution_count": 18,
   "metadata": {},
   "outputs": [
    {
     "data": {
      "text/plain": [
       "(2890, 5)"
      ]
     },
     "execution_count": 18,
     "metadata": {},
     "output_type": "execute_result"
    }
   ],
   "source": [
    "pre_sale.shape"
   ]
  },
  {
   "cell_type": "code",
   "execution_count": 19,
   "metadata": {},
   "outputs": [
    {
     "data": {
      "text/html": [
       "<div>\n",
       "<style scoped>\n",
       "    .dataframe tbody tr th:only-of-type {\n",
       "        vertical-align: middle;\n",
       "    }\n",
       "\n",
       "    .dataframe tbody tr th {\n",
       "        vertical-align: top;\n",
       "    }\n",
       "\n",
       "    .dataframe thead th {\n",
       "        text-align: right;\n",
       "    }\n",
       "</style>\n",
       "<table border=\"1\" class=\"dataframe\">\n",
       "  <thead>\n",
       "    <tr style=\"text-align: right;\">\n",
       "      <th></th>\n",
       "      <th>지역명</th>\n",
       "      <th>규모구분</th>\n",
       "      <th>연도</th>\n",
       "      <th>월</th>\n",
       "      <th>분양가격(㎡)</th>\n",
       "    </tr>\n",
       "  </thead>\n",
       "  <tbody>\n",
       "    <tr>\n",
       "      <th>0</th>\n",
       "      <td>서울</td>\n",
       "      <td>전체</td>\n",
       "      <td>2015</td>\n",
       "      <td>10</td>\n",
       "      <td>5841</td>\n",
       "    </tr>\n",
       "    <tr>\n",
       "      <th>1</th>\n",
       "      <td>서울</td>\n",
       "      <td>전용면적 60㎡이하</td>\n",
       "      <td>2015</td>\n",
       "      <td>10</td>\n",
       "      <td>5652</td>\n",
       "    </tr>\n",
       "    <tr>\n",
       "      <th>2</th>\n",
       "      <td>서울</td>\n",
       "      <td>전용면적 60㎡초과 85㎡이하</td>\n",
       "      <td>2015</td>\n",
       "      <td>10</td>\n",
       "      <td>5882</td>\n",
       "    </tr>\n",
       "    <tr>\n",
       "      <th>3</th>\n",
       "      <td>서울</td>\n",
       "      <td>전용면적 85㎡초과 102㎡이하</td>\n",
       "      <td>2015</td>\n",
       "      <td>10</td>\n",
       "      <td>5721</td>\n",
       "    </tr>\n",
       "    <tr>\n",
       "      <th>4</th>\n",
       "      <td>서울</td>\n",
       "      <td>전용면적 102㎡초과</td>\n",
       "      <td>2015</td>\n",
       "      <td>10</td>\n",
       "      <td>5879</td>\n",
       "    </tr>\n",
       "  </tbody>\n",
       "</table>\n",
       "</div>"
      ],
      "text/plain": [
       "  지역명               규모구분    연도   월 분양가격(㎡)\n",
       "0  서울                 전체  2015  10    5841\n",
       "1  서울         전용면적 60㎡이하  2015  10    5652\n",
       "2  서울   전용면적 60㎡초과 85㎡이하  2015  10    5882\n",
       "3  서울  전용면적 85㎡초과 102㎡이하  2015  10    5721\n",
       "4  서울        전용면적 102㎡초과  2015  10    5879"
      ]
     },
     "execution_count": 19,
     "metadata": {},
     "output_type": "execute_result"
    }
   ],
   "source": [
    "pre_sale.head()"
   ]
  },
  {
   "cell_type": "code",
   "execution_count": 20,
   "metadata": {},
   "outputs": [
    {
     "data": {
      "text/html": [
       "<div>\n",
       "<style scoped>\n",
       "    .dataframe tbody tr th:only-of-type {\n",
       "        vertical-align: middle;\n",
       "    }\n",
       "\n",
       "    .dataframe tbody tr th {\n",
       "        vertical-align: top;\n",
       "    }\n",
       "\n",
       "    .dataframe thead th {\n",
       "        text-align: right;\n",
       "    }\n",
       "</style>\n",
       "<table border=\"1\" class=\"dataframe\">\n",
       "  <thead>\n",
       "    <tr style=\"text-align: right;\">\n",
       "      <th></th>\n",
       "      <th>지역명</th>\n",
       "      <th>규모구분</th>\n",
       "      <th>연도</th>\n",
       "      <th>월</th>\n",
       "      <th>분양가격(㎡)</th>\n",
       "    </tr>\n",
       "  </thead>\n",
       "  <tbody>\n",
       "    <tr>\n",
       "      <th>2885</th>\n",
       "      <td>제주</td>\n",
       "      <td>전체</td>\n",
       "      <td>2018</td>\n",
       "      <td>7</td>\n",
       "      <td>3334</td>\n",
       "    </tr>\n",
       "    <tr>\n",
       "      <th>2886</th>\n",
       "      <td>제주</td>\n",
       "      <td>전용면적 60㎡이하</td>\n",
       "      <td>2018</td>\n",
       "      <td>7</td>\n",
       "      <td>NaN</td>\n",
       "    </tr>\n",
       "    <tr>\n",
       "      <th>2887</th>\n",
       "      <td>제주</td>\n",
       "      <td>전용면적 60㎡초과 85㎡이하</td>\n",
       "      <td>2018</td>\n",
       "      <td>7</td>\n",
       "      <td>3356</td>\n",
       "    </tr>\n",
       "    <tr>\n",
       "      <th>2888</th>\n",
       "      <td>제주</td>\n",
       "      <td>전용면적 85㎡초과 102㎡이하</td>\n",
       "      <td>2018</td>\n",
       "      <td>7</td>\n",
       "      <td>3226</td>\n",
       "    </tr>\n",
       "    <tr>\n",
       "      <th>2889</th>\n",
       "      <td>제주</td>\n",
       "      <td>전용면적 102㎡초과</td>\n",
       "      <td>2018</td>\n",
       "      <td>7</td>\n",
       "      <td>2990</td>\n",
       "    </tr>\n",
       "  </tbody>\n",
       "</table>\n",
       "</div>"
      ],
      "text/plain": [
       "     지역명               규모구분    연도  월 분양가격(㎡)\n",
       "2885  제주                 전체  2018  7    3334\n",
       "2886  제주         전용면적 60㎡이하  2018  7     NaN\n",
       "2887  제주   전용면적 60㎡초과 85㎡이하  2018  7    3356\n",
       "2888  제주  전용면적 85㎡초과 102㎡이하  2018  7    3226\n",
       "2889  제주        전용면적 102㎡초과  2018  7    2990"
      ]
     },
     "execution_count": 20,
     "metadata": {},
     "output_type": "execute_result"
    }
   ],
   "source": [
    "pre_sale.tail()"
   ]
  },
  {
   "cell_type": "code",
   "execution_count": 21,
   "metadata": {},
   "outputs": [
    {
     "name": "stdout",
     "output_type": "stream",
     "text": [
      "<class 'pandas.core.frame.DataFrame'>\n",
      "RangeIndex: 2890 entries, 0 to 2889\n",
      "Data columns (total 5 columns):\n",
      "지역명        2890 non-null object\n",
      "규모구분       2890 non-null object\n",
      "연도         2890 non-null int64\n",
      "월          2890 non-null int64\n",
      "분양가격(㎡)    2750 non-null object\n",
      "dtypes: int64(2), object(3)\n",
      "memory usage: 113.0+ KB\n"
     ]
    }
   ],
   "source": [
    "pre_sale.info()"
   ]
  },
  {
   "cell_type": "code",
   "execution_count": 22,
   "metadata": {},
   "outputs": [
    {
     "data": {
      "text/plain": [
       "지역명        object\n",
       "규모구분       object\n",
       "연도          int64\n",
       "월           int64\n",
       "분양가격(㎡)    object\n",
       "dtype: object"
      ]
     },
     "execution_count": 22,
     "metadata": {},
     "output_type": "execute_result"
    }
   ],
   "source": [
    "pre_sale.dtypes"
   ]
  },
  {
   "cell_type": "code",
   "execution_count": 23,
   "metadata": {},
   "outputs": [
    {
     "data": {
      "text/plain": [
       "지역명          0\n",
       "규모구분         0\n",
       "연도           0\n",
       "월            0\n",
       "분양가격(㎡)    140\n",
       "dtype: int64"
      ]
     },
     "execution_count": 23,
     "metadata": {},
     "output_type": "execute_result"
    }
   ],
   "source": [
    "pre_sale.isnull().sum()"
   ]
  },
  {
   "cell_type": "code",
   "execution_count": 24,
   "metadata": {},
   "outputs": [
    {
     "data": {
      "text/plain": [
       "<matplotlib.axes._subplots.AxesSubplot at 0x183c9c12c50>"
      ]
     },
     "execution_count": 24,
     "metadata": {},
     "output_type": "execute_result"
    },
    {
     "data": {
      "image/png": "[encoded data removed]",
      "text/plain": [
       "<Figure size 1296x432 with 2 Axes>"
      ]
     },
     "metadata": {
      "needs_background": "light"
     },
     "output_type": "display_data"
    }
   ],
   "source": [
    "#결측치 보기\n",
    "import missingno as msno\n",
    "msno.matrix(pre_sale,figsize = (18,6))"
   ]
  },
  {
   "cell_type": "code",
   "execution_count": 25,
   "metadata": {},
   "outputs": [],
   "source": [
    "pre_sale['연도'] = pre_sale['연도'].astype(str)"
   ]
  },
  {
   "cell_type": "code",
   "execution_count": 26,
   "metadata": {},
   "outputs": [],
   "source": [
    "pre_sale['월'] = pre_sale['월'].astype(str)\n"
   ]
  },
  {
   "cell_type": "code",
   "execution_count": 27,
   "metadata": {},
   "outputs": [],
   "source": [
    "pre_sale_price = pre_sale['분양가격(㎡)']"
   ]
  },
  {
   "cell_type": "code",
   "execution_count": 28,
   "metadata": {},
   "outputs": [],
   "source": [
    "#분양 가격은 str이지만 숫자형으로 cating\n",
    "pre_sale['분양가격']=pd.to_numeric(pre_sale_price,errors='coerce')\n",
    "pre_sale['평당분양가격']=pre_sale['분양가격']*3.3"
   ]
  },
  {
   "cell_type": "code",
   "execution_count": 29,
   "metadata": {},
   "outputs": [
    {
     "name": "stdout",
     "output_type": "stream",
     "text": [
      "<class 'pandas.core.frame.DataFrame'>\n",
      "RangeIndex: 2890 entries, 0 to 2889\n",
      "Data columns (total 7 columns):\n",
      "지역명        2890 non-null object\n",
      "규모구분       2890 non-null object\n",
      "연도         2890 non-null object\n",
      "월          2890 non-null object\n",
      "분양가격(㎡)    2750 non-null object\n",
      "분양가격       2658 non-null float64\n",
      "평당분양가격     2658 non-null float64\n",
      "dtypes: float64(2), object(5)\n",
      "memory usage: 158.1+ KB\n"
     ]
    }
   ],
   "source": [
    "pre_sale.info()"
   ]
  },
  {
   "cell_type": "code",
   "execution_count": 30,
   "metadata": {},
   "outputs": [
    {
     "data": {
      "text/plain": [
       "지역명         object\n",
       "규모구분        object\n",
       "연도          object\n",
       "월           object\n",
       "분양가격(㎡)     object\n",
       "분양가격       float64\n",
       "평당분양가격     float64\n",
       "dtype: object"
      ]
     },
     "execution_count": 30,
     "metadata": {},
     "output_type": "execute_result"
    }
   ],
   "source": [
    "pre_sale.dtypes"
   ]
  },
  {
   "cell_type": "code",
   "execution_count": 31,
   "metadata": {},
   "outputs": [
    {
     "data": {
      "text/plain": [
       "지역명          0\n",
       "규모구분         0\n",
       "연도           0\n",
       "월            0\n",
       "분양가격(㎡)    140\n",
       "분양가격       232\n",
       "평당분양가격     232\n",
       "dtype: int64"
      ]
     },
     "execution_count": 31,
     "metadata": {},
     "output_type": "execute_result"
    }
   ],
   "source": [
    "pre_sale.isnull().sum()"
   ]
  },
  {
   "cell_type": "code",
   "execution_count": 32,
   "metadata": {},
   "outputs": [
    {
     "data": {
      "text/html": [
       "<div>\n",
       "<style scoped>\n",
       "    .dataframe tbody tr th:only-of-type {\n",
       "        vertical-align: middle;\n",
       "    }\n",
       "\n",
       "    .dataframe tbody tr th {\n",
       "        vertical-align: top;\n",
       "    }\n",
       "\n",
       "    .dataframe thead th {\n",
       "        text-align: right;\n",
       "    }\n",
       "</style>\n",
       "<table border=\"1\" class=\"dataframe\">\n",
       "  <thead>\n",
       "    <tr style=\"text-align: right;\">\n",
       "      <th></th>\n",
       "      <th>분양가격</th>\n",
       "      <th>평당분양가격</th>\n",
       "    </tr>\n",
       "  </thead>\n",
       "  <tbody>\n",
       "    <tr>\n",
       "      <th>count</th>\n",
       "      <td>2658.000000</td>\n",
       "      <td>2658.000000</td>\n",
       "    </tr>\n",
       "    <tr>\n",
       "      <th>mean</th>\n",
       "      <td>3063.297216</td>\n",
       "      <td>10108.880813</td>\n",
       "    </tr>\n",
       "    <tr>\n",
       "      <th>std</th>\n",
       "      <td>1112.743769</td>\n",
       "      <td>3672.054436</td>\n",
       "    </tr>\n",
       "    <tr>\n",
       "      <th>min</th>\n",
       "      <td>1868.000000</td>\n",
       "      <td>6164.400000</td>\n",
       "    </tr>\n",
       "    <tr>\n",
       "      <th>25%</th>\n",
       "      <td>2348.000000</td>\n",
       "      <td>7748.400000</td>\n",
       "    </tr>\n",
       "    <tr>\n",
       "      <th>50%</th>\n",
       "      <td>2743.000000</td>\n",
       "      <td>9051.900000</td>\n",
       "    </tr>\n",
       "    <tr>\n",
       "      <th>75%</th>\n",
       "      <td>3293.750000</td>\n",
       "      <td>10869.375000</td>\n",
       "    </tr>\n",
       "    <tr>\n",
       "      <th>max</th>\n",
       "      <td>8098.000000</td>\n",
       "      <td>26723.400000</td>\n",
       "    </tr>\n",
       "  </tbody>\n",
       "</table>\n",
       "</div>"
      ],
      "text/plain": [
       "              분양가격        평당분양가격\n",
       "count  2658.000000   2658.000000\n",
       "mean   3063.297216  10108.880813\n",
       "std    1112.743769   3672.054436\n",
       "min    1868.000000   6164.400000\n",
       "25%    2348.000000   7748.400000\n",
       "50%    2743.000000   9051.900000\n",
       "75%    3293.750000  10869.375000\n",
       "max    8098.000000  26723.400000"
      ]
     },
     "execution_count": 32,
     "metadata": {},
     "output_type": "execute_result"
    }
   ],
   "source": [
    "pre_sale.describe()"
   ]
  },
  {
   "cell_type": "code",
   "execution_count": 33,
   "metadata": {},
   "outputs": [
    {
     "data": {
      "text/html": [
       "<div>\n",
       "<style scoped>\n",
       "    .dataframe tbody tr th:only-of-type {\n",
       "        vertical-align: middle;\n",
       "    }\n",
       "\n",
       "    .dataframe tbody tr th {\n",
       "        vertical-align: top;\n",
       "    }\n",
       "\n",
       "    .dataframe thead th {\n",
       "        text-align: right;\n",
       "    }\n",
       "</style>\n",
       "<table border=\"1\" class=\"dataframe\">\n",
       "  <thead>\n",
       "    <tr style=\"text-align: right;\">\n",
       "      <th></th>\n",
       "      <th>지역명</th>\n",
       "      <th>규모구분</th>\n",
       "      <th>연도</th>\n",
       "      <th>월</th>\n",
       "      <th>분양가격(㎡)</th>\n",
       "      <th>분양가격</th>\n",
       "      <th>평당분양가격</th>\n",
       "    </tr>\n",
       "  </thead>\n",
       "  <tbody>\n",
       "    <tr>\n",
       "      <th>count</th>\n",
       "      <td>2890</td>\n",
       "      <td>2890</td>\n",
       "      <td>2890</td>\n",
       "      <td>2890</td>\n",
       "      <td>2750</td>\n",
       "      <td>2658.000000</td>\n",
       "      <td>2658.000000</td>\n",
       "    </tr>\n",
       "    <tr>\n",
       "      <th>unique</th>\n",
       "      <td>17</td>\n",
       "      <td>5</td>\n",
       "      <td>4</td>\n",
       "      <td>12</td>\n",
       "      <td>1305</td>\n",
       "      <td>NaN</td>\n",
       "      <td>NaN</td>\n",
       "    </tr>\n",
       "    <tr>\n",
       "      <th>top</th>\n",
       "      <td>전남</td>\n",
       "      <td>전용면적 102㎡초과</td>\n",
       "      <td>2016</td>\n",
       "      <td>10</td>\n",
       "      <td>2221</td>\n",
       "      <td>NaN</td>\n",
       "      <td>NaN</td>\n",
       "    </tr>\n",
       "    <tr>\n",
       "      <th>freq</th>\n",
       "      <td>170</td>\n",
       "      <td>578</td>\n",
       "      <td>1020</td>\n",
       "      <td>255</td>\n",
       "      <td>17</td>\n",
       "      <td>NaN</td>\n",
       "      <td>NaN</td>\n",
       "    </tr>\n",
       "    <tr>\n",
       "      <th>mean</th>\n",
       "      <td>NaN</td>\n",
       "      <td>NaN</td>\n",
       "      <td>NaN</td>\n",
       "      <td>NaN</td>\n",
       "      <td>NaN</td>\n",
       "      <td>3063.297216</td>\n",
       "      <td>10108.880813</td>\n",
       "    </tr>\n",
       "    <tr>\n",
       "      <th>std</th>\n",
       "      <td>NaN</td>\n",
       "      <td>NaN</td>\n",
       "      <td>NaN</td>\n",
       "      <td>NaN</td>\n",
       "      <td>NaN</td>\n",
       "      <td>1112.743769</td>\n",
       "      <td>3672.054436</td>\n",
       "    </tr>\n",
       "    <tr>\n",
       "      <th>min</th>\n",
       "      <td>NaN</td>\n",
       "      <td>NaN</td>\n",
       "      <td>NaN</td>\n",
       "      <td>NaN</td>\n",
       "      <td>NaN</td>\n",
       "      <td>1868.000000</td>\n",
       "      <td>6164.400000</td>\n",
       "    </tr>\n",
       "    <tr>\n",
       "      <th>25%</th>\n",
       "      <td>NaN</td>\n",
       "      <td>NaN</td>\n",
       "      <td>NaN</td>\n",
       "      <td>NaN</td>\n",
       "      <td>NaN</td>\n",
       "      <td>2348.000000</td>\n",
       "      <td>7748.400000</td>\n",
       "    </tr>\n",
       "    <tr>\n",
       "      <th>50%</th>\n",
       "      <td>NaN</td>\n",
       "      <td>NaN</td>\n",
       "      <td>NaN</td>\n",
       "      <td>NaN</td>\n",
       "      <td>NaN</td>\n",
       "      <td>2743.000000</td>\n",
       "      <td>9051.900000</td>\n",
       "    </tr>\n",
       "    <tr>\n",
       "      <th>75%</th>\n",
       "      <td>NaN</td>\n",
       "      <td>NaN</td>\n",
       "      <td>NaN</td>\n",
       "      <td>NaN</td>\n",
       "      <td>NaN</td>\n",
       "      <td>3293.750000</td>\n",
       "      <td>10869.375000</td>\n",
       "    </tr>\n",
       "    <tr>\n",
       "      <th>max</th>\n",
       "      <td>NaN</td>\n",
       "      <td>NaN</td>\n",
       "      <td>NaN</td>\n",
       "      <td>NaN</td>\n",
       "      <td>NaN</td>\n",
       "      <td>8098.000000</td>\n",
       "      <td>26723.400000</td>\n",
       "    </tr>\n",
       "  </tbody>\n",
       "</table>\n",
       "</div>"
      ],
      "text/plain": [
       "         지역명         규모구분    연도     월 분양가격(㎡)         분양가격        평당분양가격\n",
       "count   2890         2890  2890  2890    2750  2658.000000   2658.000000\n",
       "unique    17            5     4    12    1305          NaN           NaN\n",
       "top       전남  전용면적 102㎡초과  2016    10    2221          NaN           NaN\n",
       "freq     170          578  1020   255      17          NaN           NaN\n",
       "mean     NaN          NaN   NaN   NaN     NaN  3063.297216  10108.880813\n",
       "std      NaN          NaN   NaN   NaN     NaN  1112.743769   3672.054436\n",
       "min      NaN          NaN   NaN   NaN     NaN  1868.000000   6164.400000\n",
       "25%      NaN          NaN   NaN   NaN     NaN  2348.000000   7748.400000\n",
       "50%      NaN          NaN   NaN   NaN     NaN  2743.000000   9051.900000\n",
       "75%      NaN          NaN   NaN   NaN     NaN  3293.750000  10869.375000\n",
       "max      NaN          NaN   NaN   NaN     NaN  8098.000000  26723.400000"
      ]
     },
     "execution_count": 33,
     "metadata": {},
     "output_type": "execute_result"
    }
   ],
   "source": [
    "pre_sale.describe(include='all')"
   ]
  },
  {
   "cell_type": "code",
   "execution_count": 34,
   "metadata": {},
   "outputs": [
    {
     "data": {
      "text/html": [
       "<div>\n",
       "<style scoped>\n",
       "    .dataframe tbody tr th:only-of-type {\n",
       "        vertical-align: middle;\n",
       "    }\n",
       "\n",
       "    .dataframe tbody tr th {\n",
       "        vertical-align: top;\n",
       "    }\n",
       "\n",
       "    .dataframe thead th {\n",
       "        text-align: right;\n",
       "    }\n",
       "</style>\n",
       "<table border=\"1\" class=\"dataframe\">\n",
       "  <thead>\n",
       "    <tr style=\"text-align: right;\">\n",
       "      <th></th>\n",
       "      <th>지역명</th>\n",
       "      <th>규모구분</th>\n",
       "      <th>연도</th>\n",
       "      <th>월</th>\n",
       "      <th>분양가격(㎡)</th>\n",
       "    </tr>\n",
       "  </thead>\n",
       "  <tbody>\n",
       "    <tr>\n",
       "      <th>count</th>\n",
       "      <td>2890</td>\n",
       "      <td>2890</td>\n",
       "      <td>2890</td>\n",
       "      <td>2890</td>\n",
       "      <td>2750</td>\n",
       "    </tr>\n",
       "    <tr>\n",
       "      <th>unique</th>\n",
       "      <td>17</td>\n",
       "      <td>5</td>\n",
       "      <td>4</td>\n",
       "      <td>12</td>\n",
       "      <td>1305</td>\n",
       "    </tr>\n",
       "    <tr>\n",
       "      <th>top</th>\n",
       "      <td>전남</td>\n",
       "      <td>전용면적 102㎡초과</td>\n",
       "      <td>2016</td>\n",
       "      <td>10</td>\n",
       "      <td>2221</td>\n",
       "    </tr>\n",
       "    <tr>\n",
       "      <th>freq</th>\n",
       "      <td>170</td>\n",
       "      <td>578</td>\n",
       "      <td>1020</td>\n",
       "      <td>255</td>\n",
       "      <td>17</td>\n",
       "    </tr>\n",
       "  </tbody>\n",
       "</table>\n",
       "</div>"
      ],
      "text/plain": [
       "         지역명         규모구분    연도     월 분양가격(㎡)\n",
       "count   2890         2890  2890  2890    2750\n",
       "unique    17            5     4    12    1305\n",
       "top       전남  전용면적 102㎡초과  2016    10    2221\n",
       "freq     170          578  1020   255      17"
      ]
     },
     "execution_count": 34,
     "metadata": {},
     "output_type": "execute_result"
    }
   ],
   "source": [
    "pre_sale.describe(include=[np.object])"
   ]
  },
  {
   "cell_type": "code",
   "execution_count": 35,
   "metadata": {},
   "outputs": [],
   "source": [
    "pre_sale_2017 = pre_sale.loc[pre_sale['연도'] == '2017']"
   ]
  },
  {
   "cell_type": "code",
   "execution_count": 36,
   "metadata": {},
   "outputs": [
    {
     "data": {
      "text/plain": [
       "전용면적 102㎡초과          578\n",
       "전체                   578\n",
       "전용면적 85㎡초과 102㎡이하    578\n",
       "전용면적 60㎡이하           578\n",
       "전용면적 60㎡초과 85㎡이하     578\n",
       "Name: 규모구분, dtype: int64"
      ]
     },
     "execution_count": 36,
     "metadata": {},
     "output_type": "execute_result"
    }
   ],
   "source": [
    "pre_sale['규모구분'].value_counts()"
   ]
  },
  {
   "cell_type": "code",
   "execution_count": 37,
   "metadata": {},
   "outputs": [
    {
     "data": {
      "text/plain": [
       "전남    170\n",
       "전북    170\n",
       "대구    170\n",
       "서울    170\n",
       "경남    170\n",
       "부산    170\n",
       "경북    170\n",
       "대전    170\n",
       "경기    170\n",
       "세종    170\n",
       "광주    170\n",
       "제주    170\n",
       "충남    170\n",
       "충북    170\n",
       "인천    170\n",
       "강원    170\n",
       "울산    170\n",
       "Name: 지역명, dtype: int64"
      ]
     },
     "execution_count": 37,
     "metadata": {},
     "output_type": "execute_result"
    }
   ],
   "source": [
    "pre_sale['지역명'].value_counts()"
   ]
  },
  {
   "cell_type": "code",
   "execution_count": 38,
   "metadata": {},
   "outputs": [
    {
     "data": {
      "text/html": [
       "<div>\n",
       "<style scoped>\n",
       "    .dataframe tbody tr th:only-of-type {\n",
       "        vertical-align: middle;\n",
       "    }\n",
       "\n",
       "    .dataframe tbody tr th {\n",
       "        vertical-align: top;\n",
       "    }\n",
       "\n",
       "    .dataframe thead th {\n",
       "        text-align: right;\n",
       "    }\n",
       "</style>\n",
       "<table border=\"1\" class=\"dataframe\">\n",
       "  <thead>\n",
       "    <tr style=\"text-align: right;\">\n",
       "      <th></th>\n",
       "      <th>연도</th>\n",
       "      <th>2015</th>\n",
       "      <th>2016</th>\n",
       "      <th>2017</th>\n",
       "      <th>2018</th>\n",
       "    </tr>\n",
       "  </thead>\n",
       "  <tbody>\n",
       "    <tr>\n",
       "      <th rowspan=\"8\" valign=\"top\">분양가격</th>\n",
       "      <th>count</th>\n",
       "      <td>243</td>\n",
       "      <td>984</td>\n",
       "      <td>899</td>\n",
       "      <td>532</td>\n",
       "    </tr>\n",
       "    <tr>\n",
       "      <th>mean</th>\n",
       "      <td>2789</td>\n",
       "      <td>2934</td>\n",
       "      <td>3140</td>\n",
       "      <td>3299</td>\n",
       "    </tr>\n",
       "    <tr>\n",
       "      <th>std</th>\n",
       "      <td>977</td>\n",
       "      <td>1071</td>\n",
       "      <td>1108</td>\n",
       "      <td>1196</td>\n",
       "    </tr>\n",
       "    <tr>\n",
       "      <th>min</th>\n",
       "      <td>1868</td>\n",
       "      <td>1900</td>\n",
       "      <td>1976</td>\n",
       "      <td>2076</td>\n",
       "    </tr>\n",
       "    <tr>\n",
       "      <th>25%</th>\n",
       "      <td>2225</td>\n",
       "      <td>2282</td>\n",
       "      <td>2365</td>\n",
       "      <td>2471</td>\n",
       "    </tr>\n",
       "    <tr>\n",
       "      <th>50%</th>\n",
       "      <td>2516</td>\n",
       "      <td>2672</td>\n",
       "      <td>2849</td>\n",
       "      <td>2914</td>\n",
       "    </tr>\n",
       "    <tr>\n",
       "      <th>75%</th>\n",
       "      <td>3026</td>\n",
       "      <td>3148</td>\n",
       "      <td>3456</td>\n",
       "      <td>3647</td>\n",
       "    </tr>\n",
       "    <tr>\n",
       "      <th>max</th>\n",
       "      <td>7092</td>\n",
       "      <td>8096</td>\n",
       "      <td>7887</td>\n",
       "      <td>8098</td>\n",
       "    </tr>\n",
       "    <tr>\n",
       "      <th rowspan=\"8\" valign=\"top\">평당분양가격</th>\n",
       "      <th>count</th>\n",
       "      <td>243</td>\n",
       "      <td>984</td>\n",
       "      <td>899</td>\n",
       "      <td>532</td>\n",
       "    </tr>\n",
       "    <tr>\n",
       "      <th>mean</th>\n",
       "      <td>9203</td>\n",
       "      <td>9683</td>\n",
       "      <td>10360</td>\n",
       "      <td>10885</td>\n",
       "    </tr>\n",
       "    <tr>\n",
       "      <th>std</th>\n",
       "      <td>3224</td>\n",
       "      <td>3536</td>\n",
       "      <td>3655</td>\n",
       "      <td>3947</td>\n",
       "    </tr>\n",
       "    <tr>\n",
       "      <th>min</th>\n",
       "      <td>6164</td>\n",
       "      <td>6270</td>\n",
       "      <td>6521</td>\n",
       "      <td>6851</td>\n",
       "    </tr>\n",
       "    <tr>\n",
       "      <th>25%</th>\n",
       "      <td>7342</td>\n",
       "      <td>7531</td>\n",
       "      <td>7804</td>\n",
       "      <td>8154</td>\n",
       "    </tr>\n",
       "    <tr>\n",
       "      <th>50%</th>\n",
       "      <td>8303</td>\n",
       "      <td>8818</td>\n",
       "      <td>9402</td>\n",
       "      <td>9616</td>\n",
       "    </tr>\n",
       "    <tr>\n",
       "      <th>75%</th>\n",
       "      <td>9984</td>\n",
       "      <td>10390</td>\n",
       "      <td>11405</td>\n",
       "      <td>12036</td>\n",
       "    </tr>\n",
       "    <tr>\n",
       "      <th>max</th>\n",
       "      <td>23404</td>\n",
       "      <td>26717</td>\n",
       "      <td>26027</td>\n",
       "      <td>26723</td>\n",
       "    </tr>\n",
       "  </tbody>\n",
       "</table>\n",
       "</div>"
      ],
      "text/plain": [
       "연도            2015  2016  2017  2018\n",
       "분양가격   count   243   984   899   532\n",
       "       mean   2789  2934  3140  3299\n",
       "       std     977  1071  1108  1196\n",
       "       min    1868  1900  1976  2076\n",
       "       25%    2225  2282  2365  2471\n",
       "       50%    2516  2672  2849  2914\n",
       "       75%    3026  3148  3456  3647\n",
       "       max    7092  8096  7887  8098\n",
       "평당분양가격 count   243   984   899   532\n",
       "       mean   9203  9683 10360 10885\n",
       "       std    3224  3536  3655  3947\n",
       "       min    6164  6270  6521  6851\n",
       "       25%    7342  7531  7804  8154\n",
       "       50%    8303  8818  9402  9616\n",
       "       75%    9984 10390 11405 12036\n",
       "       max   23404 26717 26027 26723"
      ]
     },
     "execution_count": 38,
     "metadata": {},
     "output_type": "execute_result"
    }
   ],
   "source": [
    "pd.options.display.float_format = '{:.0f}'.format\n",
    "pre_sale.groupby(pre_sale.연도).describe().T # T = Transpose"
   ]
  },
  {
   "cell_type": "code",
   "execution_count": 39,
   "metadata": {},
   "outputs": [],
   "source": [
    "pre_sale.pivot_table?"
   ]
  },
  {
   "cell_type": "code",
   "execution_count": 40,
   "metadata": {},
   "outputs": [
    {
     "data": {
      "text/html": [
       "<div>\n",
       "<style scoped>\n",
       "    .dataframe tbody tr th:only-of-type {\n",
       "        vertical-align: middle;\n",
       "    }\n",
       "\n",
       "    .dataframe tbody tr th {\n",
       "        vertical-align: top;\n",
       "    }\n",
       "\n",
       "    .dataframe thead th {\n",
       "        text-align: right;\n",
       "    }\n",
       "</style>\n",
       "<table border=\"1\" class=\"dataframe\">\n",
       "  <thead>\n",
       "    <tr style=\"text-align: right;\">\n",
       "      <th>연도</th>\n",
       "      <th>2015</th>\n",
       "      <th>2016</th>\n",
       "      <th>2017</th>\n",
       "      <th>2018</th>\n",
       "    </tr>\n",
       "    <tr>\n",
       "      <th>규모구분</th>\n",
       "      <th></th>\n",
       "      <th></th>\n",
       "      <th></th>\n",
       "      <th></th>\n",
       "    </tr>\n",
       "  </thead>\n",
       "  <tbody>\n",
       "    <tr>\n",
       "      <th>전용면적 102㎡초과</th>\n",
       "      <td>9837</td>\n",
       "      <td>10389</td>\n",
       "      <td>11334</td>\n",
       "      <td>11235</td>\n",
       "    </tr>\n",
       "    <tr>\n",
       "      <th>전용면적 60㎡이하</th>\n",
       "      <td>8952</td>\n",
       "      <td>9399</td>\n",
       "      <td>10246</td>\n",
       "      <td>10912</td>\n",
       "    </tr>\n",
       "    <tr>\n",
       "      <th>전용면적 60㎡초과 85㎡이하</th>\n",
       "      <td>8892</td>\n",
       "      <td>9296</td>\n",
       "      <td>9825</td>\n",
       "      <td>10464</td>\n",
       "    </tr>\n",
       "    <tr>\n",
       "      <th>전용면적 85㎡초과 102㎡이하</th>\n",
       "      <td>9519</td>\n",
       "      <td>10122</td>\n",
       "      <td>10540</td>\n",
       "      <td>11483</td>\n",
       "    </tr>\n",
       "    <tr>\n",
       "      <th>전체</th>\n",
       "      <td>8893</td>\n",
       "      <td>9293</td>\n",
       "      <td>9901</td>\n",
       "      <td>10563</td>\n",
       "    </tr>\n",
       "  </tbody>\n",
       "</table>\n",
       "</div>"
      ],
      "text/plain": [
       "연도                 2015  2016  2017  2018\n",
       "규모구분                                     \n",
       "전용면적 102㎡초과        9837 10389 11334 11235\n",
       "전용면적 60㎡이하         8952  9399 10246 10912\n",
       "전용면적 60㎡초과 85㎡이하   8892  9296  9825 10464\n",
       "전용면적 85㎡초과 102㎡이하  9519 10122 10540 11483\n",
       "전체                 8893  9293  9901 10563"
      ]
     },
     "execution_count": 40,
     "metadata": {},
     "output_type": "execute_result"
    }
   ],
   "source": [
    "pre_sale.pivot_table('평당분양가격','규모구분','연도')"
   ]
  },
  {
   "cell_type": "code",
   "execution_count": 41,
   "metadata": {},
   "outputs": [
    {
     "data": {
      "text/html": [
       "<div>\n",
       "<style scoped>\n",
       "    .dataframe tbody tr th:only-of-type {\n",
       "        vertical-align: middle;\n",
       "    }\n",
       "\n",
       "    .dataframe tbody tr th {\n",
       "        vertical-align: top;\n",
       "    }\n",
       "\n",
       "    .dataframe thead th {\n",
       "        text-align: right;\n",
       "    }\n",
       "</style>\n",
       "<table border=\"1\" class=\"dataframe\">\n",
       "  <thead>\n",
       "    <tr style=\"text-align: right;\">\n",
       "      <th>연도</th>\n",
       "      <th>지역명</th>\n",
       "      <th>2015</th>\n",
       "      <th>2016</th>\n",
       "      <th>2017</th>\n",
       "      <th>2018</th>\n",
       "    </tr>\n",
       "  </thead>\n",
       "  <tbody>\n",
       "    <tr>\n",
       "      <th>0</th>\n",
       "      <td>강원</td>\n",
       "      <td>7160</td>\n",
       "      <td>7011</td>\n",
       "      <td>7127</td>\n",
       "      <td>7641</td>\n",
       "    </tr>\n",
       "    <tr>\n",
       "      <th>1</th>\n",
       "      <td>경기</td>\n",
       "      <td>10377</td>\n",
       "      <td>11220</td>\n",
       "      <td>11850</td>\n",
       "      <td>12881</td>\n",
       "    </tr>\n",
       "    <tr>\n",
       "      <th>2</th>\n",
       "      <td>경남</td>\n",
       "      <td>7586</td>\n",
       "      <td>7848</td>\n",
       "      <td>8120</td>\n",
       "      <td>8894</td>\n",
       "    </tr>\n",
       "    <tr>\n",
       "      <th>3</th>\n",
       "      <td>경북</td>\n",
       "      <td>7171</td>\n",
       "      <td>7361</td>\n",
       "      <td>7795</td>\n",
       "      <td>8342</td>\n",
       "    </tr>\n",
       "    <tr>\n",
       "      <th>4</th>\n",
       "      <td>광주</td>\n",
       "      <td>8052</td>\n",
       "      <td>8899</td>\n",
       "      <td>9464</td>\n",
       "      <td>9638</td>\n",
       "    </tr>\n",
       "    <tr>\n",
       "      <th>5</th>\n",
       "      <td>대구</td>\n",
       "      <td>9232</td>\n",
       "      <td>10310</td>\n",
       "      <td>11456</td>\n",
       "      <td>11737</td>\n",
       "    </tr>\n",
       "    <tr>\n",
       "      <th>6</th>\n",
       "      <td>대전</td>\n",
       "      <td>8098</td>\n",
       "      <td>8502</td>\n",
       "      <td>9045</td>\n",
       "      <td>9604</td>\n",
       "    </tr>\n",
       "    <tr>\n",
       "      <th>7</th>\n",
       "      <td>부산</td>\n",
       "      <td>10307</td>\n",
       "      <td>10430</td>\n",
       "      <td>11578</td>\n",
       "      <td>12756</td>\n",
       "    </tr>\n",
       "    <tr>\n",
       "      <th>8</th>\n",
       "      <td>서울</td>\n",
       "      <td>19725</td>\n",
       "      <td>20663</td>\n",
       "      <td>21376</td>\n",
       "      <td>22329</td>\n",
       "    </tr>\n",
       "    <tr>\n",
       "      <th>9</th>\n",
       "      <td>세종</td>\n",
       "      <td>8750</td>\n",
       "      <td>8860</td>\n",
       "      <td>9135</td>\n",
       "      <td>10375</td>\n",
       "    </tr>\n",
       "    <tr>\n",
       "      <th>10</th>\n",
       "      <td>울산</td>\n",
       "      <td>10053</td>\n",
       "      <td>10209</td>\n",
       "      <td>11345</td>\n",
       "      <td>10422</td>\n",
       "    </tr>\n",
       "    <tr>\n",
       "      <th>11</th>\n",
       "      <td>인천</td>\n",
       "      <td>10484</td>\n",
       "      <td>10532</td>\n",
       "      <td>10737</td>\n",
       "      <td>11205</td>\n",
       "    </tr>\n",
       "    <tr>\n",
       "      <th>12</th>\n",
       "      <td>전남</td>\n",
       "      <td>6317</td>\n",
       "      <td>6489</td>\n",
       "      <td>7188</td>\n",
       "      <td>7792</td>\n",
       "    </tr>\n",
       "    <tr>\n",
       "      <th>13</th>\n",
       "      <td>전북</td>\n",
       "      <td>6703</td>\n",
       "      <td>6418</td>\n",
       "      <td>7058</td>\n",
       "      <td>7573</td>\n",
       "    </tr>\n",
       "    <tr>\n",
       "      <th>14</th>\n",
       "      <td>제주</td>\n",
       "      <td>7405</td>\n",
       "      <td>9129</td>\n",
       "      <td>10831</td>\n",
       "      <td>12492</td>\n",
       "    </tr>\n",
       "    <tr>\n",
       "      <th>15</th>\n",
       "      <td>충남</td>\n",
       "      <td>7115</td>\n",
       "      <td>7331</td>\n",
       "      <td>7456</td>\n",
       "      <td>7997</td>\n",
       "    </tr>\n",
       "    <tr>\n",
       "      <th>16</th>\n",
       "      <td>충북</td>\n",
       "      <td>6645</td>\n",
       "      <td>6770</td>\n",
       "      <td>6763</td>\n",
       "      <td>7892</td>\n",
       "    </tr>\n",
       "  </tbody>\n",
       "</table>\n",
       "</div>"
      ],
      "text/plain": [
       "연도 지역명  2015  2016  2017  2018\n",
       "0   강원  7160  7011  7127  7641\n",
       "1   경기 10377 11220 11850 12881\n",
       "2   경남  7586  7848  8120  8894\n",
       "3   경북  7171  7361  7795  8342\n",
       "4   광주  8052  8899  9464  9638\n",
       "5   대구  9232 10310 11456 11737\n",
       "6   대전  8098  8502  9045  9604\n",
       "7   부산 10307 10430 11578 12756\n",
       "8   서울 19725 20663 21376 22329\n",
       "9   세종  8750  8860  9135 10375\n",
       "10  울산 10053 10209 11345 10422\n",
       "11  인천 10484 10532 10737 11205\n",
       "12  전남  6317  6489  7188  7792\n",
       "13  전북  6703  6418  7058  7573\n",
       "14  제주  7405  9129 10831 12492\n",
       "15  충남  7115  7331  7456  7997\n",
       "16  충북  6645  6770  6763  7892"
      ]
     },
     "execution_count": 41,
     "metadata": {},
     "output_type": "execute_result"
    }
   ],
   "source": [
    "region_year_all = pre_sale.loc[pre_sale['규모구분']=='전체']\n",
    "region_year = region_year_all.pivot_table ('평당분양가격','지역명','연도').reset_index() # 인덱스 다시 잡기\n",
    "region_year"
   ]
  },
  {
   "cell_type": "code",
   "execution_count": 42,
   "metadata": {},
   "outputs": [
    {
     "name": "stdout",
     "output_type": "stream",
     "text": [
      "2015년부터 2018년까지 분양가는 계속 상승했으며, 상승액이 가장 큰 지역은 제주이며 상승액은 평당 5,087,000원이다.\n",
      "상승액이 가장 작은 지역은 울산이며 평당 369,000원이다.\n",
      "하지만 나중에 살펴보겠지만 울산에는 결측치가 많다. 따라서 변동액이 가장 작다라고 판단하기 어렵다.\n",
      "전국 평균 변동액은 평당 1,669,588원이다.\n"
     ]
    },
    {
     "data": {
      "text/html": [
       "<div>\n",
       "<style scoped>\n",
       "    .dataframe tbody tr th:only-of-type {\n",
       "        vertical-align: middle;\n",
       "    }\n",
       "\n",
       "    .dataframe tbody tr th {\n",
       "        vertical-align: top;\n",
       "    }\n",
       "\n",
       "    .dataframe thead th {\n",
       "        text-align: right;\n",
       "    }\n",
       "</style>\n",
       "<table border=\"1\" class=\"dataframe\">\n",
       "  <thead>\n",
       "    <tr style=\"text-align: right;\">\n",
       "      <th>연도</th>\n",
       "      <th>지역명</th>\n",
       "      <th>2015</th>\n",
       "      <th>2016</th>\n",
       "      <th>2017</th>\n",
       "      <th>2018</th>\n",
       "      <th>변동액</th>\n",
       "    </tr>\n",
       "  </thead>\n",
       "  <tbody>\n",
       "    <tr>\n",
       "      <th>0</th>\n",
       "      <td>강원</td>\n",
       "      <td>7160</td>\n",
       "      <td>7011</td>\n",
       "      <td>7127</td>\n",
       "      <td>7641</td>\n",
       "      <td>481</td>\n",
       "    </tr>\n",
       "    <tr>\n",
       "      <th>1</th>\n",
       "      <td>경기</td>\n",
       "      <td>10377</td>\n",
       "      <td>11220</td>\n",
       "      <td>11850</td>\n",
       "      <td>12881</td>\n",
       "      <td>2503</td>\n",
       "    </tr>\n",
       "    <tr>\n",
       "      <th>2</th>\n",
       "      <td>경남</td>\n",
       "      <td>7586</td>\n",
       "      <td>7848</td>\n",
       "      <td>8120</td>\n",
       "      <td>8894</td>\n",
       "      <td>1308</td>\n",
       "    </tr>\n",
       "    <tr>\n",
       "      <th>3</th>\n",
       "      <td>경북</td>\n",
       "      <td>7171</td>\n",
       "      <td>7361</td>\n",
       "      <td>7795</td>\n",
       "      <td>8342</td>\n",
       "      <td>1171</td>\n",
       "    </tr>\n",
       "    <tr>\n",
       "      <th>4</th>\n",
       "      <td>광주</td>\n",
       "      <td>8052</td>\n",
       "      <td>8899</td>\n",
       "      <td>9464</td>\n",
       "      <td>9638</td>\n",
       "      <td>1585</td>\n",
       "    </tr>\n",
       "    <tr>\n",
       "      <th>5</th>\n",
       "      <td>대구</td>\n",
       "      <td>9232</td>\n",
       "      <td>10310</td>\n",
       "      <td>11456</td>\n",
       "      <td>11737</td>\n",
       "      <td>2504</td>\n",
       "    </tr>\n",
       "    <tr>\n",
       "      <th>6</th>\n",
       "      <td>대전</td>\n",
       "      <td>8098</td>\n",
       "      <td>8502</td>\n",
       "      <td>9045</td>\n",
       "      <td>9604</td>\n",
       "      <td>1506</td>\n",
       "    </tr>\n",
       "    <tr>\n",
       "      <th>7</th>\n",
       "      <td>부산</td>\n",
       "      <td>10307</td>\n",
       "      <td>10430</td>\n",
       "      <td>11578</td>\n",
       "      <td>12756</td>\n",
       "      <td>2449</td>\n",
       "    </tr>\n",
       "    <tr>\n",
       "      <th>8</th>\n",
       "      <td>서울</td>\n",
       "      <td>19725</td>\n",
       "      <td>20663</td>\n",
       "      <td>21376</td>\n",
       "      <td>22329</td>\n",
       "      <td>2603</td>\n",
       "    </tr>\n",
       "    <tr>\n",
       "      <th>9</th>\n",
       "      <td>세종</td>\n",
       "      <td>8750</td>\n",
       "      <td>8860</td>\n",
       "      <td>9135</td>\n",
       "      <td>10375</td>\n",
       "      <td>1624</td>\n",
       "    </tr>\n",
       "    <tr>\n",
       "      <th>10</th>\n",
       "      <td>울산</td>\n",
       "      <td>10053</td>\n",
       "      <td>10209</td>\n",
       "      <td>11345</td>\n",
       "      <td>10422</td>\n",
       "      <td>369</td>\n",
       "    </tr>\n",
       "    <tr>\n",
       "      <th>11</th>\n",
       "      <td>인천</td>\n",
       "      <td>10484</td>\n",
       "      <td>10532</td>\n",
       "      <td>10737</td>\n",
       "      <td>11205</td>\n",
       "      <td>721</td>\n",
       "    </tr>\n",
       "    <tr>\n",
       "      <th>12</th>\n",
       "      <td>전남</td>\n",
       "      <td>6317</td>\n",
       "      <td>6489</td>\n",
       "      <td>7188</td>\n",
       "      <td>7792</td>\n",
       "      <td>1474</td>\n",
       "    </tr>\n",
       "    <tr>\n",
       "      <th>13</th>\n",
       "      <td>전북</td>\n",
       "      <td>6703</td>\n",
       "      <td>6418</td>\n",
       "      <td>7058</td>\n",
       "      <td>7573</td>\n",
       "      <td>869</td>\n",
       "    </tr>\n",
       "    <tr>\n",
       "      <th>14</th>\n",
       "      <td>제주</td>\n",
       "      <td>7405</td>\n",
       "      <td>9129</td>\n",
       "      <td>10831</td>\n",
       "      <td>12492</td>\n",
       "      <td>5087</td>\n",
       "    </tr>\n",
       "    <tr>\n",
       "      <th>15</th>\n",
       "      <td>충남</td>\n",
       "      <td>7115</td>\n",
       "      <td>7331</td>\n",
       "      <td>7456</td>\n",
       "      <td>7997</td>\n",
       "      <td>882</td>\n",
       "    </tr>\n",
       "    <tr>\n",
       "      <th>16</th>\n",
       "      <td>충북</td>\n",
       "      <td>6645</td>\n",
       "      <td>6770</td>\n",
       "      <td>6763</td>\n",
       "      <td>7892</td>\n",
       "      <td>1247</td>\n",
       "    </tr>\n",
       "  </tbody>\n",
       "</table>\n",
       "</div>"
      ],
      "text/plain": [
       "연도 지역명  2015  2016  2017  2018   변동액\n",
       "0   강원  7160  7011  7127  7641   481\n",
       "1   경기 10377 11220 11850 12881  2503\n",
       "2   경남  7586  7848  8120  8894  1308\n",
       "3   경북  7171  7361  7795  8342  1171\n",
       "4   광주  8052  8899  9464  9638  1585\n",
       "5   대구  9232 10310 11456 11737  2504\n",
       "6   대전  8098  8502  9045  9604  1506\n",
       "7   부산 10307 10430 11578 12756  2449\n",
       "8   서울 19725 20663 21376 22329  2603\n",
       "9   세종  8750  8860  9135 10375  1624\n",
       "10  울산 10053 10209 11345 10422   369\n",
       "11  인천 10484 10532 10737 11205   721\n",
       "12  전남  6317  6489  7188  7792  1474\n",
       "13  전북  6703  6418  7058  7573   869\n",
       "14  제주  7405  9129 10831 12492  5087\n",
       "15  충남  7115  7331  7456  7997   882\n",
       "16  충북  6645  6770  6763  7892  1247"
      ]
     },
     "execution_count": 42,
     "metadata": {},
     "output_type": "execute_result"
    }
   ],
   "source": [
    "region_year['변동액'] = (region_year['2018'] - region_year['2015']).astype(int)\n",
    "max_delta_price = np.max(region_year['변동액'])*1000\n",
    "min_delta_price = np.min(region_year['변동액'])*1000\n",
    "mean_delta_price = np.mean(region_year['변동액'])*1000\n",
    "\n",
    "print('2015년부터 2018년까지 분양가는 계속 상승했으며, 상승액이 가장 큰 지역은 제주이며 상승액은 평당 {:,.0f}원이다.'.format(max_delta_price))\n",
    "print('상승액이 가장 작은 지역은 울산이며 평당 {:,.0f}원이다.'.format(min_delta_price))\n",
    "print('하지만 나중에 살펴보겠지만 울산에는 결측치가 많다. 따라서 변동액이 가장 작다라고 판단하기 어렵다.')\n",
    "print('전국 평균 변동액은 평당 {:,.0f}원이다.'.format(mean_delta_price))\n",
    "\n",
    "region_year"
   ]
  },
  {
   "cell_type": "code",
   "execution_count": 44,
   "metadata": {},
   "outputs": [
    {
     "data": {
      "text/html": [
       "<div>\n",
       "<style scoped>\n",
       "    .dataframe tbody tr th:only-of-type {\n",
       "        vertical-align: middle;\n",
       "    }\n",
       "\n",
       "    .dataframe tbody tr th {\n",
       "        vertical-align: top;\n",
       "    }\n",
       "\n",
       "    .dataframe thead th {\n",
       "        text-align: right;\n",
       "    }\n",
       "</style>\n",
       "<table border=\"1\" class=\"dataframe\">\n",
       "  <thead>\n",
       "    <tr style=\"text-align: right;\">\n",
       "      <th>지역명</th>\n",
       "      <th>강원</th>\n",
       "      <th>경기</th>\n",
       "      <th>경남</th>\n",
       "      <th>경북</th>\n",
       "      <th>광주</th>\n",
       "      <th>대구</th>\n",
       "      <th>대전</th>\n",
       "      <th>부산</th>\n",
       "      <th>서울</th>\n",
       "      <th>세종</th>\n",
       "      <th>울산</th>\n",
       "      <th>인천</th>\n",
       "      <th>전남</th>\n",
       "      <th>전북</th>\n",
       "      <th>제주</th>\n",
       "      <th>충남</th>\n",
       "      <th>충북</th>\n",
       "    </tr>\n",
       "    <tr>\n",
       "      <th>규모구분</th>\n",
       "      <th></th>\n",
       "      <th></th>\n",
       "      <th></th>\n",
       "      <th></th>\n",
       "      <th></th>\n",
       "      <th></th>\n",
       "      <th></th>\n",
       "      <th></th>\n",
       "      <th></th>\n",
       "      <th></th>\n",
       "      <th></th>\n",
       "      <th></th>\n",
       "      <th></th>\n",
       "      <th></th>\n",
       "      <th></th>\n",
       "      <th></th>\n",
       "      <th></th>\n",
       "    </tr>\n",
       "  </thead>\n",
       "  <tbody>\n",
       "    <tr>\n",
       "      <th>전용면적 102㎡초과</th>\n",
       "      <td>7899</td>\n",
       "      <td>13647</td>\n",
       "      <td>9226</td>\n",
       "      <td>8616</td>\n",
       "      <td>10296</td>\n",
       "      <td>12334</td>\n",
       "      <td>14282</td>\n",
       "      <td>12590</td>\n",
       "      <td>22058</td>\n",
       "      <td>9292</td>\n",
       "      <td>9974</td>\n",
       "      <td>13836</td>\n",
       "      <td>7568</td>\n",
       "      <td>7842</td>\n",
       "      <td>10416</td>\n",
       "      <td>8478</td>\n",
       "      <td>7933</td>\n",
       "    </tr>\n",
       "    <tr>\n",
       "      <th>전용면적 60㎡이하</th>\n",
       "      <td>7195</td>\n",
       "      <td>12385</td>\n",
       "      <td>8343</td>\n",
       "      <td>7661</td>\n",
       "      <td>8518</td>\n",
       "      <td>11285</td>\n",
       "      <td>8798</td>\n",
       "      <td>10707</td>\n",
       "      <td>22046</td>\n",
       "      <td>9107</td>\n",
       "      <td>8965</td>\n",
       "      <td>10870</td>\n",
       "      <td>6991</td>\n",
       "      <td>7232</td>\n",
       "      <td>14700</td>\n",
       "      <td>7782</td>\n",
       "      <td>6969</td>\n",
       "    </tr>\n",
       "    <tr>\n",
       "      <th>전용면적 60㎡초과 85㎡이하</th>\n",
       "      <td>7228</td>\n",
       "      <td>11691</td>\n",
       "      <td>8110</td>\n",
       "      <td>7690</td>\n",
       "      <td>9176</td>\n",
       "      <td>10931</td>\n",
       "      <td>8807</td>\n",
       "      <td>11191</td>\n",
       "      <td>20781</td>\n",
       "      <td>9272</td>\n",
       "      <td>10641</td>\n",
       "      <td>10748</td>\n",
       "      <td>6968</td>\n",
       "      <td>6891</td>\n",
       "      <td>9943</td>\n",
       "      <td>7504</td>\n",
       "      <td>7044</td>\n",
       "    </tr>\n",
       "    <tr>\n",
       "      <th>전용면적 85㎡초과 102㎡이하</th>\n",
       "      <td>7686</td>\n",
       "      <td>12130</td>\n",
       "      <td>9822</td>\n",
       "      <td>8776</td>\n",
       "      <td>9296</td>\n",
       "      <td>9589</td>\n",
       "      <td>9037</td>\n",
       "      <td>11039</td>\n",
       "      <td>23754</td>\n",
       "      <td>9245</td>\n",
       "      <td>8861</td>\n",
       "      <td>11267</td>\n",
       "      <td>7882</td>\n",
       "      <td>7770</td>\n",
       "      <td>10739</td>\n",
       "      <td>9090</td>\n",
       "      <td>8171</td>\n",
       "    </tr>\n",
       "    <tr>\n",
       "      <th>전체</th>\n",
       "      <td>7197</td>\n",
       "      <td>11706</td>\n",
       "      <td>8137</td>\n",
       "      <td>7696</td>\n",
       "      <td>9167</td>\n",
       "      <td>10897</td>\n",
       "      <td>8880</td>\n",
       "      <td>11295</td>\n",
       "      <td>21169</td>\n",
       "      <td>9263</td>\n",
       "      <td>10619</td>\n",
       "      <td>10739</td>\n",
       "      <td>6982</td>\n",
       "      <td>6902</td>\n",
       "      <td>10253</td>\n",
       "      <td>7494</td>\n",
       "      <td>6994</td>\n",
       "    </tr>\n",
       "  </tbody>\n",
       "</table>\n",
       "</div>"
      ],
      "text/plain": [
       "지역명                 강원    경기   경남   경북    광주    대구    대전    부산    서울   세종  \\\n",
       "규모구분                                                                        \n",
       "전용면적 102㎡초과       7899 13647 9226 8616 10296 12334 14282 12590 22058 9292   \n",
       "전용면적 60㎡이하        7195 12385 8343 7661  8518 11285  8798 10707 22046 9107   \n",
       "전용면적 60㎡초과 85㎡이하  7228 11691 8110 7690  9176 10931  8807 11191 20781 9272   \n",
       "전용면적 85㎡초과 102㎡이하 7686 12130 9822 8776  9296  9589  9037 11039 23754 9245   \n",
       "전체                7197 11706 8137 7696  9167 10897  8880 11295 21169 9263   \n",
       "\n",
       "지역명                  울산    인천   전남   전북    제주   충남   충북  \n",
       "규모구분                                                     \n",
       "전용면적 102㎡초과        9974 13836 7568 7842 10416 8478 7933  \n",
       "전용면적 60㎡이하         8965 10870 6991 7232 14700 7782 6969  \n",
       "전용면적 60㎡초과 85㎡이하  10641 10748 6968 6891  9943 7504 7044  \n",
       "전용면적 85㎡초과 102㎡이하  8861 11267 7882 7770 10739 9090 8171  \n",
       "전체                10619 10739 6982 6902 10253 7494 6994  "
      ]
     },
     "execution_count": 44,
     "metadata": {},
     "output_type": "execute_result"
    }
   ],
   "source": [
    "pre_sale.pivot_table('평당분양가격','규모구분','지역명')"
   ]
  },
  {
   "cell_type": "code",
   "execution_count": 45,
   "metadata": {},
   "outputs": [
    {
     "name": "stderr",
     "output_type": "stream",
     "text": [
      "C:\\ProgramData\\Anaconda3\\lib\\site-packages\\plotnine\\layer.py:449: UserWarning: geom_bar : Removed 232 rows containing missing values.\n",
      "  self.data = self.geom.handle_na(self.data)\n"
     ]
    },
    {
     "data": {
      "image/png": "[encoded data removed]",
      "text/plain": [
       "<Figure size 640x480 with 1 Axes>"
      ]
     },
     "metadata": {},
     "output_type": "display_data"
    },
    {
     "data": {
      "text/plain": [
       "<ggplot: (-9223371932758582612)>"
      ]
     },
     "execution_count": 45,
     "metadata": {},
     "output_type": "execute_result"
    }
   ],
   "source": [
    "(ggplot(pre_sale,aes(x='지역명',y='평당분양가격',fill='규모구분'))\n",
    "+geom_bar(stat='identity',position='dodge')\n",
    "+ggtitle('규모별 신규민간 아파트 분양가격')\n",
    ")"
   ]
  },
  {
   "cell_type": "code",
   "execution_count": 47,
   "metadata": {},
   "outputs": [
    {
     "name": "stderr",
     "output_type": "stream",
     "text": [
      "C:\\ProgramData\\Anaconda3\\lib\\site-packages\\plotnine\\layer.py:449: UserWarning: geom_bar : Removed 232 rows containing missing values.\n",
      "  self.data = self.geom.handle_na(self.data)\n"
     ]
    },
    {
     "data": {
      "image/png": "[encoded data removed]",
      "text/plain": [
       "<Figure size 640x480 with 17 Axes>"
      ]
     },
     "metadata": {},
     "output_type": "display_data"
    },
    {
     "data": {
      "text/plain": [
       "<ggplot: (-9223371932758658465)>"
      ]
     },
     "execution_count": 47,
     "metadata": {},
     "output_type": "execute_result"
    }
   ],
   "source": [
    "(ggplot(pre_sale)\n",
    "+aes(x='연도',y='평당분양가격',fill='규모구분')\n",
    "+geom_bar(stat='identity',position='dodge')\n",
    "+ggtitle('규모별 신규민간 아파트 분양가격')\n",
    "+facet_wrap('지역명') # 지역명별로 그래프를 나눌수 있다. sub 차트 생성\n",
    ")"
   ]
  },
  {
   "cell_type": "code",
   "execution_count": 52,
   "metadata": {},
   "outputs": [
    {
     "name": "stderr",
     "output_type": "stream",
     "text": [
      "C:\\ProgramData\\Anaconda3\\lib\\site-packages\\plotnine\\layer.py:360: UserWarning: stat_boxplot : Removed 232 rows containing non-finite values.\n",
      "  data = self.stat.compute_layer(data, params, layout)\n"
     ]
    },
    {
     "data": {
      "image/png": "[encoded data removed]",
      "text/plain": [
       "<Figure size 640x480 with 1 Axes>"
      ]
     },
     "metadata": {},
     "output_type": "display_data"
    },
    {
     "data": {
      "text/plain": [
       "<ggplot: (-9223371932756600232)>"
      ]
     },
     "execution_count": 52,
     "metadata": {},
     "output_type": "execute_result"
    }
   ],
   "source": [
    "(ggplot(pre_sale,aes(x='지역명',y='평당분양가격',fill='규모구분'))\n",
    "+geom_boxplot()\n",
    "+ggtitle('규모별 신규민간 아파트 분양가격')\n",
    ")"
   ]
  },
  {
   "cell_type": "code",
   "execution_count": 53,
   "metadata": {},
   "outputs": [
    {
     "name": "stderr",
     "output_type": "stream",
     "text": [
      "C:\\ProgramData\\Anaconda3\\lib\\site-packages\\plotnine\\layer.py:360: UserWarning: stat_boxplot : Removed 5 rows containing non-finite values.\n",
      "  data = self.stat.compute_layer(data, params, layout)\n"
     ]
    },
    {
     "data": {
      "image/png": "[encoded data removed]",
      "text/plain": [
       "<Figure size 640x480 with 1 Axes>"
      ]
     },
     "metadata": {},
     "output_type": "display_data"
    },
    {
     "data": {
      "text/plain": [
       "<ggplot: (-9223371932755860550)>"
      ]
     },
     "execution_count": 53,
     "metadata": {},
     "output_type": "execute_result"
    }
   ],
   "source": [
    "pre_sale_seoul = pre_sale.loc[pre_sale['지역명']=='서울']\n",
    "(ggplot(pre_sale_seoul)\n",
    "+aes(x='연도',y='평당분양가격',fill='규모구분')\n",
    "+geom_boxplot()\n",
    "+ggtitle('서울 연도 / 규모별 신규민간 아파트 분양가격')\n",
    ")"
   ]
  },
  {
   "cell_type": "code",
   "execution_count": 54,
   "metadata": {},
   "outputs": [
    {
     "name": "stderr",
     "output_type": "stream",
     "text": [
      "C:\\ProgramData\\Anaconda3\\lib\\site-packages\\plotnine\\layer.py:360: UserWarning: stat_boxplot : Removed 25 rows containing non-finite values.\n",
      "  data = self.stat.compute_layer(data, params, layout)\n"
     ]
    },
    {
     "data": {
      "image/png": "[encoded data removed]",
      "text/plain": [
       "<Figure size 640x480 with 1 Axes>"
      ]
     },
     "metadata": {},
     "output_type": "display_data"
    },
    {
     "data": {
      "text/plain": [
       "<ggplot: (-9223371932758411474)>"
      ]
     },
     "execution_count": 54,
     "metadata": {},
     "output_type": "execute_result"
    }
   ],
   "source": [
    "pre_sale_seoul = pre_sale.loc[pre_sale['지역명']=='제주']\n",
    "(ggplot(pre_sale_seoul)\n",
    "+aes(x='연도',y='평당분양가격',fill='규모구분')\n",
    "+geom_boxplot()\n",
    ")"
   ]
  },
  {
   "cell_type": "code",
   "execution_count": 55,
   "metadata": {},
   "outputs": [
    {
     "name": "stderr",
     "output_type": "stream",
     "text": [
      "C:\\ProgramData\\Anaconda3\\lib\\site-packages\\plotnine\\layer.py:360: UserWarning: stat_boxplot : Removed 41 rows containing non-finite values.\n",
      "  data = self.stat.compute_layer(data, params, layout)\n"
     ]
    },
    {
     "data": {
      "image/png": "[encoded data removed]",
      "text/plain": [
       "<Figure size 640x480 with 1 Axes>"
      ]
     },
     "metadata": {},
     "output_type": "display_data"
    },
    {
     "data": {
      "text/plain": [
       "<ggplot: (104098046065)>"
      ]
     },
     "execution_count": 55,
     "metadata": {},
     "output_type": "execute_result"
    }
   ],
   "source": [
    "pre_sale_seoul = pre_sale.loc[pre_sale['지역명']=='울산']\n",
    "(ggplot(pre_sale_seoul)\n",
    "+aes(x='연도',y='평당분양가격',fill='규모구분')\n",
    "+geom_boxplot()\n",
    ")"
   ]
  },
  {
   "cell_type": "code",
   "execution_count": 56,
   "metadata": {},
   "outputs": [],
   "source": [
    "# Tidy data : 데이터를 조작 , 시각화 하기 편하게 데이터를 만드는 작업"
   ]
  },
  {
   "cell_type": "code",
   "execution_count": 61,
   "metadata": {},
   "outputs": [],
   "source": [
    "df = pd.read_csv('data/korea_201509.csv',encoding='euc-kr'\n",
    "                 ,skiprows = 1 # 시작 row를 정해주는 인자 \n",
    "                 ,header = 0)"
   ]
  },
  {
   "cell_type": "code",
   "execution_count": 63,
   "metadata": {},
   "outputs": [
    {
     "data": {
      "text/html": [
       "<div>\n",
       "<style scoped>\n",
       "    .dataframe tbody tr th:only-of-type {\n",
       "        vertical-align: middle;\n",
       "    }\n",
       "\n",
       "    .dataframe tbody tr th {\n",
       "        vertical-align: top;\n",
       "    }\n",
       "\n",
       "    .dataframe thead th {\n",
       "        text-align: right;\n",
       "    }\n",
       "</style>\n",
       "<table border=\"1\" class=\"dataframe\">\n",
       "  <thead>\n",
       "    <tr style=\"text-align: right;\">\n",
       "      <th></th>\n",
       "      <th>Unnamed: 0</th>\n",
       "      <th>Unnamed: 1</th>\n",
       "      <th>Unnamed: 2</th>\n",
       "      <th>Unnamed: 3</th>\n",
       "      <th>Unnamed: 4</th>\n",
       "      <th>Unnamed: 5</th>\n",
       "      <th>Unnamed: 6</th>\n",
       "      <th>Unnamed: 7</th>\n",
       "      <th>Unnamed: 8</th>\n",
       "      <th>Unnamed: 9</th>\n",
       "      <th>...</th>\n",
       "      <th>Unnamed: 17</th>\n",
       "      <th>Unnamed: 18</th>\n",
       "      <th>Unnamed: 19</th>\n",
       "      <th>Unnamed: 20</th>\n",
       "      <th>Unnamed: 21</th>\n",
       "      <th>Unnamed: 22</th>\n",
       "      <th>Unnamed: 23</th>\n",
       "      <th>Unnamed: 24</th>\n",
       "      <th>Unnamed: 25</th>\n",
       "      <th>Unnamed: 26</th>\n",
       "    </tr>\n",
       "  </thead>\n",
       "  <tbody>\n",
       "    <tr>\n",
       "      <th>0</th>\n",
       "      <td>구분</td>\n",
       "      <td>NaN</td>\n",
       "      <td>2013년</td>\n",
       "      <td>2014년</td>\n",
       "      <td>NaN</td>\n",
       "      <td>NaN</td>\n",
       "      <td>NaN</td>\n",
       "      <td>NaN</td>\n",
       "      <td>NaN</td>\n",
       "      <td>NaN</td>\n",
       "      <td>...</td>\n",
       "      <td>NaN</td>\n",
       "      <td>NaN</td>\n",
       "      <td>NaN</td>\n",
       "      <td>NaN</td>\n",
       "      <td>NaN</td>\n",
       "      <td>NaN</td>\n",
       "      <td>NaN</td>\n",
       "      <td>NaN</td>\n",
       "      <td>NaN</td>\n",
       "      <td>(단위: 천원/3.3㎡)</td>\n",
       "    </tr>\n",
       "    <tr>\n",
       "      <th>1</th>\n",
       "      <td>시도</td>\n",
       "      <td>시군구</td>\n",
       "      <td>12월</td>\n",
       "      <td>1월</td>\n",
       "      <td>2월</td>\n",
       "      <td>3월</td>\n",
       "      <td>4월</td>\n",
       "      <td>5월</td>\n",
       "      <td>6월</td>\n",
       "      <td>7월</td>\n",
       "      <td>...</td>\n",
       "      <td>3월</td>\n",
       "      <td>4월</td>\n",
       "      <td>5월</td>\n",
       "      <td>6월</td>\n",
       "      <td>7월</td>\n",
       "      <td>8월</td>\n",
       "      <td>9월</td>\n",
       "      <td>전월비</td>\n",
       "      <td>전년말비</td>\n",
       "      <td>전년동월비</td>\n",
       "    </tr>\n",
       "    <tr>\n",
       "      <th>2</th>\n",
       "      <td>전국</td>\n",
       "      <td>NaN</td>\n",
       "      <td>8,059</td>\n",
       "      <td>8,130</td>\n",
       "      <td>8,195</td>\n",
       "      <td>8,204</td>\n",
       "      <td>8,289</td>\n",
       "      <td>8,358</td>\n",
       "      <td>8,344</td>\n",
       "      <td>8,333</td>\n",
       "      <td>...</td>\n",
       "      <td>8,563</td>\n",
       "      <td>8,613</td>\n",
       "      <td>8,624</td>\n",
       "      <td>8,627</td>\n",
       "      <td>8,643</td>\n",
       "      <td>8,678</td>\n",
       "      <td>8,665</td>\n",
       "      <td>-13</td>\n",
       "      <td>82</td>\n",
       "      <td>207</td>\n",
       "    </tr>\n",
       "    <tr>\n",
       "      <th>3</th>\n",
       "      <td>서울</td>\n",
       "      <td>NaN</td>\n",
       "      <td>18,189</td>\n",
       "      <td>17,925</td>\n",
       "      <td>17,925</td>\n",
       "      <td>18,016</td>\n",
       "      <td>18,098</td>\n",
       "      <td>19,446</td>\n",
       "      <td>18,867</td>\n",
       "      <td>18,742</td>\n",
       "      <td>...</td>\n",
       "      <td>19,415</td>\n",
       "      <td>18,842</td>\n",
       "      <td>18,367</td>\n",
       "      <td>18,374</td>\n",
       "      <td>18,152</td>\n",
       "      <td>18,443</td>\n",
       "      <td>17,969</td>\n",
       "      <td>-474</td>\n",
       "      <td>-2,300</td>\n",
       "      <td>-1,434</td>\n",
       "    </tr>\n",
       "    <tr>\n",
       "      <th>4</th>\n",
       "      <td>6대광역시</td>\n",
       "      <td>부산</td>\n",
       "      <td>8,111</td>\n",
       "      <td>8,111</td>\n",
       "      <td>9,078</td>\n",
       "      <td>8,965</td>\n",
       "      <td>9,402</td>\n",
       "      <td>9,501</td>\n",
       "      <td>9,453</td>\n",
       "      <td>9,457</td>\n",
       "      <td>...</td>\n",
       "      <td>9,279</td>\n",
       "      <td>9,327</td>\n",
       "      <td>9,345</td>\n",
       "      <td>9,515</td>\n",
       "      <td>9,559</td>\n",
       "      <td>9,581</td>\n",
       "      <td>9,608</td>\n",
       "      <td>1</td>\n",
       "      <td>430</td>\n",
       "      <td>477</td>\n",
       "    </tr>\n",
       "    <tr>\n",
       "      <th>5</th>\n",
       "      <td>NaN</td>\n",
       "      <td>대구</td>\n",
       "      <td>8,080</td>\n",
       "      <td>8,080</td>\n",
       "      <td>8,077</td>\n",
       "      <td>8,101</td>\n",
       "      <td>8,267</td>\n",
       "      <td>8,274</td>\n",
       "      <td>8,360</td>\n",
       "      <td>8,360</td>\n",
       "      <td>...</td>\n",
       "      <td>8,441</td>\n",
       "      <td>8,446</td>\n",
       "      <td>8,568</td>\n",
       "      <td>8,542</td>\n",
       "      <td>8,542</td>\n",
       "      <td>8,795</td>\n",
       "      <td>8,863</td>\n",
       "      <td>27</td>\n",
       "      <td>400</td>\n",
       "      <td>350</td>\n",
       "    </tr>\n",
       "    <tr>\n",
       "      <th>6</th>\n",
       "      <td>NaN</td>\n",
       "      <td>인천</td>\n",
       "      <td>10,204</td>\n",
       "      <td>10,204</td>\n",
       "      <td>10,408</td>\n",
       "      <td>10,408</td>\n",
       "      <td>10,000</td>\n",
       "      <td>9,844</td>\n",
       "      <td>10,058</td>\n",
       "      <td>9,974</td>\n",
       "      <td>...</td>\n",
       "      <td>9,876</td>\n",
       "      <td>9,938</td>\n",
       "      <td>10,551</td>\n",
       "      <td>10,443</td>\n",
       "      <td>10,443</td>\n",
       "      <td>10,449</td>\n",
       "      <td>10,450</td>\n",
       "      <td>-162</td>\n",
       "      <td>-150</td>\n",
       "      <td>-131</td>\n",
       "    </tr>\n",
       "    <tr>\n",
       "      <th>7</th>\n",
       "      <td>NaN</td>\n",
       "      <td>광주</td>\n",
       "      <td>6,098</td>\n",
       "      <td>7,326</td>\n",
       "      <td>7,611</td>\n",
       "      <td>7,346</td>\n",
       "      <td>7,346</td>\n",
       "      <td>7,523</td>\n",
       "      <td>7,659</td>\n",
       "      <td>7,612</td>\n",
       "      <td>...</td>\n",
       "      <td>7,861</td>\n",
       "      <td>7,914</td>\n",
       "      <td>7,877</td>\n",
       "      <td>7,881</td>\n",
       "      <td>8,089</td>\n",
       "      <td>8,231</td>\n",
       "      <td>8,083</td>\n",
       "      <td>-148</td>\n",
       "      <td>334</td>\n",
       "      <td>281</td>\n",
       "    </tr>\n",
       "    <tr>\n",
       "      <th>8</th>\n",
       "      <td>NaN</td>\n",
       "      <td>대전</td>\n",
       "      <td>8,321</td>\n",
       "      <td>8,321</td>\n",
       "      <td>8,321</td>\n",
       "      <td>8,341</td>\n",
       "      <td>8,341</td>\n",
       "      <td>8,341</td>\n",
       "      <td>8,333</td>\n",
       "      <td>8,333</td>\n",
       "      <td>...</td>\n",
       "      <td>8,067</td>\n",
       "      <td>8,145</td>\n",
       "      <td>8,272</td>\n",
       "      <td>8,079</td>\n",
       "      <td>8,079</td>\n",
       "      <td>8,079</td>\n",
       "      <td>7,917</td>\n",
       "      <td>68</td>\n",
       "      <td>610</td>\n",
       "      <td>414</td>\n",
       "    </tr>\n",
       "    <tr>\n",
       "      <th>9</th>\n",
       "      <td>NaN</td>\n",
       "      <td>울산</td>\n",
       "      <td>8,090</td>\n",
       "      <td>8,090</td>\n",
       "      <td>8,090</td>\n",
       "      <td>8,153</td>\n",
       "      <td>8,153</td>\n",
       "      <td>8,153</td>\n",
       "      <td>8,153</td>\n",
       "      <td>8,153</td>\n",
       "      <td>...</td>\n",
       "      <td>8,629</td>\n",
       "      <td>9,380</td>\n",
       "      <td>9,192</td>\n",
       "      <td>9,190</td>\n",
       "      <td>9,190</td>\n",
       "      <td>9,215</td>\n",
       "      <td>9,215</td>\n",
       "      <td>0</td>\n",
       "      <td>324</td>\n",
       "      <td>722</td>\n",
       "    </tr>\n",
       "    <tr>\n",
       "      <th>10</th>\n",
       "      <td>NaN</td>\n",
       "      <td>NaN</td>\n",
       "      <td>8,151</td>\n",
       "      <td>8,355</td>\n",
       "      <td>8,597</td>\n",
       "      <td>8,552</td>\n",
       "      <td>8,585</td>\n",
       "      <td>8,606</td>\n",
       "      <td>8,669</td>\n",
       "      <td>8,648</td>\n",
       "      <td>...</td>\n",
       "      <td>8,692</td>\n",
       "      <td>8,858</td>\n",
       "      <td>8,967</td>\n",
       "      <td>8,942</td>\n",
       "      <td>8,984</td>\n",
       "      <td>9,058</td>\n",
       "      <td>9,023</td>\n",
       "      <td>-36</td>\n",
       "      <td>325</td>\n",
       "      <td>352</td>\n",
       "    </tr>\n",
       "    <tr>\n",
       "      <th>11</th>\n",
       "      <td>경기</td>\n",
       "      <td>NaN</td>\n",
       "      <td>10,855</td>\n",
       "      <td>10,855</td>\n",
       "      <td>10,791</td>\n",
       "      <td>10,784</td>\n",
       "      <td>10,876</td>\n",
       "      <td>10,646</td>\n",
       "      <td>10,266</td>\n",
       "      <td>10,124</td>\n",
       "      <td>...</td>\n",
       "      <td>10,469</td>\n",
       "      <td>10,684</td>\n",
       "      <td>10,685</td>\n",
       "      <td>10,573</td>\n",
       "      <td>10,518</td>\n",
       "      <td>10,573</td>\n",
       "      <td>10,341</td>\n",
       "      <td>-232</td>\n",
       "      <td>-38</td>\n",
       "      <td>-160</td>\n",
       "    </tr>\n",
       "    <tr>\n",
       "      <th>12</th>\n",
       "      <td>수도권</td>\n",
       "      <td>NaN</td>\n",
       "      <td>13,083</td>\n",
       "      <td>12,995</td>\n",
       "      <td>13,041</td>\n",
       "      <td>13,069</td>\n",
       "      <td>12,991</td>\n",
       "      <td>13,312</td>\n",
       "      <td>13,064</td>\n",
       "      <td>12,947</td>\n",
       "      <td>...</td>\n",
       "      <td>13,253</td>\n",
       "      <td>13,155</td>\n",
       "      <td>13,201</td>\n",
       "      <td>13,130</td>\n",
       "      <td>13,038</td>\n",
       "      <td>13,155</td>\n",
       "      <td>12,920</td>\n",
       "      <td>-235</td>\n",
       "      <td>-636</td>\n",
       "      <td>-373</td>\n",
       "    </tr>\n",
       "    <tr>\n",
       "      <th>13</th>\n",
       "      <td>세종</td>\n",
       "      <td>NaN</td>\n",
       "      <td>7,601</td>\n",
       "      <td>7,600</td>\n",
       "      <td>7,532</td>\n",
       "      <td>7,814</td>\n",
       "      <td>7,908</td>\n",
       "      <td>7,934</td>\n",
       "      <td>8,067</td>\n",
       "      <td>8,067</td>\n",
       "      <td>...</td>\n",
       "      <td>8,555</td>\n",
       "      <td>8,546</td>\n",
       "      <td>8,546</td>\n",
       "      <td>8,671</td>\n",
       "      <td>8,669</td>\n",
       "      <td>8,695</td>\n",
       "      <td>8,715</td>\n",
       "      <td>20</td>\n",
       "      <td>155</td>\n",
       "      <td>434</td>\n",
       "    </tr>\n",
       "    <tr>\n",
       "      <th>14</th>\n",
       "      <td>지방</td>\n",
       "      <td>강원</td>\n",
       "      <td>6,230</td>\n",
       "      <td>6,230</td>\n",
       "      <td>6,230</td>\n",
       "      <td>6,141</td>\n",
       "      <td>6,373</td>\n",
       "      <td>6,350</td>\n",
       "      <td>6,350</td>\n",
       "      <td>6,268</td>\n",
       "      <td>...</td>\n",
       "      <td>6,182</td>\n",
       "      <td>6,924</td>\n",
       "      <td>6,846</td>\n",
       "      <td>6,986</td>\n",
       "      <td>7,019</td>\n",
       "      <td>7,008</td>\n",
       "      <td>7,121</td>\n",
       "      <td>113</td>\n",
       "      <td>756</td>\n",
       "      <td>702</td>\n",
       "    </tr>\n",
       "    <tr>\n",
       "      <th>15</th>\n",
       "      <td>NaN</td>\n",
       "      <td>충북</td>\n",
       "      <td>6,589</td>\n",
       "      <td>6,589</td>\n",
       "      <td>6,611</td>\n",
       "      <td>6,625</td>\n",
       "      <td>6,678</td>\n",
       "      <td>6,598</td>\n",
       "      <td>6,587</td>\n",
       "      <td>6,586</td>\n",
       "      <td>...</td>\n",
       "      <td>6,783</td>\n",
       "      <td>6,790</td>\n",
       "      <td>6,805</td>\n",
       "      <td>6,682</td>\n",
       "      <td>6,601</td>\n",
       "      <td>6,603</td>\n",
       "      <td>6,606</td>\n",
       "      <td>3</td>\n",
       "      <td>-137</td>\n",
       "      <td>22</td>\n",
       "    </tr>\n",
       "    <tr>\n",
       "      <th>16</th>\n",
       "      <td>NaN</td>\n",
       "      <td>충남</td>\n",
       "      <td>6,365</td>\n",
       "      <td>6,365</td>\n",
       "      <td>6,379</td>\n",
       "      <td>6,287</td>\n",
       "      <td>6,552</td>\n",
       "      <td>6,591</td>\n",
       "      <td>6,644</td>\n",
       "      <td>6,805</td>\n",
       "      <td>...</td>\n",
       "      <td>7,161</td>\n",
       "      <td>7,017</td>\n",
       "      <td>6,975</td>\n",
       "      <td>6,939</td>\n",
       "      <td>6,935</td>\n",
       "      <td>6,942</td>\n",
       "      <td>6,939</td>\n",
       "      <td>-3</td>\n",
       "      <td>-50</td>\n",
       "      <td>57</td>\n",
       "    </tr>\n",
       "    <tr>\n",
       "      <th>17</th>\n",
       "      <td>NaN</td>\n",
       "      <td>전북</td>\n",
       "      <td>6,282</td>\n",
       "      <td>6,281</td>\n",
       "      <td>5,946</td>\n",
       "      <td>5,966</td>\n",
       "      <td>6,277</td>\n",
       "      <td>6,306</td>\n",
       "      <td>6,351</td>\n",
       "      <td>6,319</td>\n",
       "      <td>...</td>\n",
       "      <td>6,542</td>\n",
       "      <td>6,551</td>\n",
       "      <td>6,556</td>\n",
       "      <td>6,601</td>\n",
       "      <td>6,750</td>\n",
       "      <td>6,580</td>\n",
       "      <td>6,885</td>\n",
       "      <td>304</td>\n",
       "      <td>301</td>\n",
       "      <td>165</td>\n",
       "    </tr>\n",
       "    <tr>\n",
       "      <th>18</th>\n",
       "      <td>NaN</td>\n",
       "      <td>전남</td>\n",
       "      <td>5,678</td>\n",
       "      <td>5,678</td>\n",
       "      <td>5,678</td>\n",
       "      <td>5,696</td>\n",
       "      <td>5,736</td>\n",
       "      <td>5,656</td>\n",
       "      <td>5,609</td>\n",
       "      <td>5,780</td>\n",
       "      <td>...</td>\n",
       "      <td>5,825</td>\n",
       "      <td>5,940</td>\n",
       "      <td>6,050</td>\n",
       "      <td>6,243</td>\n",
       "      <td>6,286</td>\n",
       "      <td>6,289</td>\n",
       "      <td>6,245</td>\n",
       "      <td>-43</td>\n",
       "      <td>461</td>\n",
       "      <td>441</td>\n",
       "    </tr>\n",
       "    <tr>\n",
       "      <th>19</th>\n",
       "      <td>NaN</td>\n",
       "      <td>경북</td>\n",
       "      <td>6,168</td>\n",
       "      <td>6,168</td>\n",
       "      <td>6,234</td>\n",
       "      <td>6,317</td>\n",
       "      <td>6,412</td>\n",
       "      <td>6,409</td>\n",
       "      <td>6,554</td>\n",
       "      <td>6,556</td>\n",
       "      <td>...</td>\n",
       "      <td>6,997</td>\n",
       "      <td>7,006</td>\n",
       "      <td>6,966</td>\n",
       "      <td>6,887</td>\n",
       "      <td>7,035</td>\n",
       "      <td>7,037</td>\n",
       "      <td>7,029</td>\n",
       "      <td>-9</td>\n",
       "      <td>39</td>\n",
       "      <td>451</td>\n",
       "    </tr>\n",
       "    <tr>\n",
       "      <th>20</th>\n",
       "      <td>NaN</td>\n",
       "      <td>경남</td>\n",
       "      <td>6,473</td>\n",
       "      <td>6,485</td>\n",
       "      <td>6,502</td>\n",
       "      <td>6,610</td>\n",
       "      <td>6,599</td>\n",
       "      <td>6,610</td>\n",
       "      <td>6,615</td>\n",
       "      <td>6,613</td>\n",
       "      <td>...</td>\n",
       "      <td>7,668</td>\n",
       "      <td>7,683</td>\n",
       "      <td>7,717</td>\n",
       "      <td>7,715</td>\n",
       "      <td>7,723</td>\n",
       "      <td>7,665</td>\n",
       "      <td>7,947</td>\n",
       "      <td>282</td>\n",
       "      <td>615</td>\n",
       "      <td>1,179</td>\n",
       "    </tr>\n",
       "    <tr>\n",
       "      <th>21</th>\n",
       "      <td>NaN</td>\n",
       "      <td>제주</td>\n",
       "      <td>7,674</td>\n",
       "      <td>7,900</td>\n",
       "      <td>7,900</td>\n",
       "      <td>7,900</td>\n",
       "      <td>7,900</td>\n",
       "      <td>7,900</td>\n",
       "      <td>7,914</td>\n",
       "      <td>7,914</td>\n",
       "      <td>...</td>\n",
       "      <td>7,826</td>\n",
       "      <td>7,285</td>\n",
       "      <td>7,285</td>\n",
       "      <td>7,343</td>\n",
       "      <td>7,343</td>\n",
       "      <td>7,343</td>\n",
       "      <td>7,379</td>\n",
       "      <td>36</td>\n",
       "      <td>-360</td>\n",
       "      <td>-453</td>\n",
       "    </tr>\n",
       "    <tr>\n",
       "      <th>22</th>\n",
       "      <td>NaN</td>\n",
       "      <td>NaN</td>\n",
       "      <td>6,432</td>\n",
       "      <td>6,462</td>\n",
       "      <td>6,435</td>\n",
       "      <td>6,443</td>\n",
       "      <td>6,566</td>\n",
       "      <td>6,552</td>\n",
       "      <td>6,578</td>\n",
       "      <td>6,605</td>\n",
       "      <td>...</td>\n",
       "      <td>6,873</td>\n",
       "      <td>6,899</td>\n",
       "      <td>6,900</td>\n",
       "      <td>6,925</td>\n",
       "      <td>6,961</td>\n",
       "      <td>6,933</td>\n",
       "      <td>7,019</td>\n",
       "      <td>85</td>\n",
       "      <td>203</td>\n",
       "      <td>321</td>\n",
       "    </tr>\n",
       "  </tbody>\n",
       "</table>\n",
       "<p>23 rows × 27 columns</p>\n",
       "</div>"
      ],
      "text/plain": [
       "   Unnamed: 0 Unnamed: 1 Unnamed: 2 Unnamed: 3 Unnamed: 4 Unnamed: 5  \\\n",
       "0          구분        NaN      2013년      2014년        NaN        NaN   \n",
       "1          시도        시군구        12월         1월         2월         3월   \n",
       "2          전국        NaN      8,059      8,130      8,195      8,204   \n",
       "3          서울        NaN     18,189     17,925     17,925     18,016   \n",
       "4       6대광역시         부산      8,111      8,111      9,078      8,965   \n",
       "5         NaN         대구      8,080      8,080      8,077      8,101   \n",
       "6         NaN         인천     10,204     10,204     10,408     10,408   \n",
       "7         NaN         광주      6,098      7,326      7,611      7,346   \n",
       "8         NaN         대전      8,321      8,321      8,321      8,341   \n",
       "9         NaN         울산      8,090      8,090      8,090      8,153   \n",
       "10        NaN        NaN      8,151      8,355      8,597      8,552   \n",
       "11         경기        NaN     10,855     10,855     10,791     10,784   \n",
       "12        수도권        NaN     13,083     12,995     13,041     13,069   \n",
       "13         세종        NaN      7,601      7,600      7,532      7,814   \n",
       "14         지방         강원      6,230      6,230      6,230      6,141   \n",
       "15        NaN         충북      6,589      6,589      6,611      6,625   \n",
       "16        NaN         충남      6,365      6,365      6,379      6,287   \n",
       "17        NaN         전북      6,282      6,281      5,946      5,966   \n",
       "18        NaN         전남      5,678      5,678      5,678      5,696   \n",
       "19        NaN         경북      6,168      6,168      6,234      6,317   \n",
       "20        NaN         경남      6,473      6,485      6,502      6,610   \n",
       "21        NaN         제주      7,674      7,900      7,900      7,900   \n",
       "22        NaN        NaN      6,432      6,462      6,435      6,443   \n",
       "\n",
       "   Unnamed: 6 Unnamed: 7 Unnamed: 8 Unnamed: 9      ...       Unnamed: 17  \\\n",
       "0         NaN        NaN        NaN        NaN      ...               NaN   \n",
       "1          4월         5월         6월         7월      ...                3월   \n",
       "2       8,289      8,358      8,344      8,333      ...             8,563   \n",
       "3      18,098     19,446     18,867     18,742      ...            19,415   \n",
       "4       9,402      9,501      9,453      9,457      ...             9,279   \n",
       "5       8,267      8,274      8,360      8,360      ...             8,441   \n",
       "6      10,000      9,844     10,058      9,974      ...             9,876   \n",
       "7       7,346      7,523      7,659      7,612      ...             7,861   \n",
       "8       8,341      8,341      8,333      8,333      ...             8,067   \n",
       "9       8,153      8,153      8,153      8,153      ...             8,629   \n",
       "10      8,585      8,606      8,669      8,648      ...             8,692   \n",
       "11     10,876     10,646     10,266     10,124      ...            10,469   \n",
       "12     12,991     13,312     13,064     12,947      ...            13,253   \n",
       "13      7,908      7,934      8,067      8,067      ...             8,555   \n",
       "14      6,373      6,350      6,350      6,268      ...             6,182   \n",
       "15      6,678      6,598      6,587      6,586      ...             6,783   \n",
       "16      6,552      6,591      6,644      6,805      ...             7,161   \n",
       "17      6,277      6,306      6,351      6,319      ...             6,542   \n",
       "18      5,736      5,656      5,609      5,780      ...             5,825   \n",
       "19      6,412      6,409      6,554      6,556      ...             6,997   \n",
       "20      6,599      6,610      6,615      6,613      ...             7,668   \n",
       "21      7,900      7,900      7,914      7,914      ...             7,826   \n",
       "22      6,566      6,552      6,578      6,605      ...             6,873   \n",
       "\n",
       "   Unnamed: 18 Unnamed: 19 Unnamed: 20 Unnamed: 21 Unnamed: 22 Unnamed: 23  \\\n",
       "0          NaN         NaN         NaN         NaN         NaN         NaN   \n",
       "1           4월          5월          6월          7월          8월          9월   \n",
       "2        8,613       8,624       8,627       8,643       8,678       8,665   \n",
       "3       18,842      18,367      18,374      18,152      18,443      17,969   \n",
       "4        9,327       9,345       9,515       9,559       9,581       9,608   \n",
       "5        8,446       8,568       8,542       8,542       8,795       8,863   \n",
       "6        9,938      10,551      10,443      10,443      10,449      10,450   \n",
       "7        7,914       7,877       7,881       8,089       8,231       8,083   \n",
       "8        8,145       8,272       8,079       8,079       8,079       7,917   \n",
       "9        9,380       9,192       9,190       9,190       9,215       9,215   \n",
       "10       8,858       8,967       8,942       8,984       9,058       9,023   \n",
       "11      10,684      10,685      10,573      10,518      10,573      10,341   \n",
       "12      13,155      13,201      13,130      13,038      13,155      12,920   \n",
       "13       8,546       8,546       8,671       8,669       8,695       8,715   \n",
       "14       6,924       6,846       6,986       7,019       7,008       7,121   \n",
       "15       6,790       6,805       6,682       6,601       6,603       6,606   \n",
       "16       7,017       6,975       6,939       6,935       6,942       6,939   \n",
       "17       6,551       6,556       6,601       6,750       6,580       6,885   \n",
       "18       5,940       6,050       6,243       6,286       6,289       6,245   \n",
       "19       7,006       6,966       6,887       7,035       7,037       7,029   \n",
       "20       7,683       7,717       7,715       7,723       7,665       7,947   \n",
       "21       7,285       7,285       7,343       7,343       7,343       7,379   \n",
       "22       6,899       6,900       6,925       6,961       6,933       7,019   \n",
       "\n",
       "   Unnamed: 24 Unnamed: 25    Unnamed: 26  \n",
       "0          NaN         NaN  (단위: 천원/3.3㎡)  \n",
       "1          전월비        전년말비          전년동월비  \n",
       "2         -13          82            207   \n",
       "3        -474      -2,300         -1,434   \n",
       "4           1         430            477   \n",
       "5          27         400            350   \n",
       "6        -162        -150           -131   \n",
       "7        -148         334            281   \n",
       "8          68         610            414   \n",
       "9           0         324            722   \n",
       "10        -36         325            352   \n",
       "11       -232         -38           -160   \n",
       "12       -235        -636           -373   \n",
       "13         20         155            434   \n",
       "14        113         756            702   \n",
       "15          3        -137             22   \n",
       "16         -3         -50             57   \n",
       "17        304         301            165   \n",
       "18        -43         461            441   \n",
       "19         -9          39            451   \n",
       "20        282         615          1,179   \n",
       "21         36        -360           -453   \n",
       "22         85         203            321   \n",
       "\n",
       "[23 rows x 27 columns]"
      ]
     },
     "execution_count": 63,
     "metadata": {},
     "output_type": "execute_result"
    }
   ],
   "source": [
    "df"
   ]
  },
  {
   "cell_type": "code",
   "execution_count": 64,
   "metadata": {},
   "outputs": [
    {
     "data": {
      "text/plain": [
       "(23, 27)"
      ]
     },
     "execution_count": 64,
     "metadata": {},
     "output_type": "execute_result"
    }
   ],
   "source": [
    "df.shape"
   ]
  },
  {
   "cell_type": "code",
   "execution_count": 65,
   "metadata": {},
   "outputs": [],
   "source": [
    "# 년과 월을 이어주는 작업\n",
    "year = df.iloc[0]\n",
    "month = df.iloc[1]"
   ]
  },
  {
   "cell_type": "code",
   "execution_count": 66,
   "metadata": {},
   "outputs": [
    {
     "data": {
      "text/plain": [
       "Unnamed: 0                구분\n",
       "Unnamed: 1               NaN\n",
       "Unnamed: 2             2013년\n",
       "Unnamed: 3             2014년\n",
       "Unnamed: 4               NaN\n",
       "Unnamed: 5               NaN\n",
       "Unnamed: 6               NaN\n",
       "Unnamed: 7               NaN\n",
       "Unnamed: 8               NaN\n",
       "Unnamed: 9               NaN\n",
       "Unnamed: 10              NaN\n",
       "Unnamed: 11              NaN\n",
       "Unnamed: 12              NaN\n",
       "Unnamed: 13              NaN\n",
       "Unnamed: 14              NaN\n",
       "Unnamed: 15            2015년\n",
       "Unnamed: 16              NaN\n",
       "Unnamed: 17              NaN\n",
       "Unnamed: 18              NaN\n",
       "Unnamed: 19              NaN\n",
       "Unnamed: 20              NaN\n",
       "Unnamed: 21              NaN\n",
       "Unnamed: 22              NaN\n",
       "Unnamed: 23              NaN\n",
       "Unnamed: 24              NaN\n",
       "Unnamed: 25              NaN\n",
       "Unnamed: 26    (단위: 천원/3.3㎡)\n",
       "Name: 0, dtype: object"
      ]
     },
     "execution_count": 66,
     "metadata": {},
     "output_type": "execute_result"
    }
   ],
   "source": [
    "year"
   ]
  },
  {
   "cell_type": "code",
   "execution_count": 70,
   "metadata": {},
   "outputs": [
    {
     "name": "stdout",
     "output_type": "stream",
     "text": [
      "Unnamed: 0              구분\n",
      "Unnamed: 1             시군구\n",
      "Unnamed: 2       2013년 12월\n",
      "Unnamed: 3        2014년 1월\n",
      "Unnamed: 4        2014년 2월\n",
      "Unnamed: 5        2014년 3월\n",
      "Unnamed: 6        2014년 4월\n",
      "Unnamed: 7        2014년 5월\n",
      "Unnamed: 8        2014년 6월\n",
      "Unnamed: 9        2014년 7월\n",
      "Unnamed: 10       2014년 8월\n",
      "Unnamed: 11       2014년 9월\n",
      "Unnamed: 12      2014년 10월\n",
      "Unnamed: 13      2014년 11월\n",
      "Unnamed: 14      2014년 12월\n",
      "Unnamed: 15       2015년 1월\n",
      "Unnamed: 16       2015년 2월\n",
      "Unnamed: 17       2015년 3월\n",
      "Unnamed: 18       2015년 4월\n",
      "Unnamed: 19       2015년 5월\n",
      "Unnamed: 20       2015년 6월\n",
      "Unnamed: 21       2015년 7월\n",
      "Unnamed: 22       2015년 8월\n",
      "Unnamed: 23       2015년 9월\n",
      "Unnamed: 24      2015년 전월비\n",
      "Unnamed: 25     2015년 전년말비\n",
      "Unnamed: 26    2015년 전년동월비\n",
      "Name: 0, dtype: object\n"
     ]
    }
   ],
   "source": [
    "for i,y in enumerate(year):\n",
    "    if i > 2 and i < 15:\n",
    "        year[i] = ' '.join(['2014년',month[i]])\n",
    "    elif i >= 15:\n",
    "        year[i] = ' '.join(['2015년',month[i]])\n",
    "    elif i == 2:\n",
    "        year[i] = ' '.join([year[i],month[i]])\n",
    "    elif i == 1:\n",
    "        year[i] = '시군구'\n",
    "\n",
    "print(year)"
   ]
  },
  {
   "cell_type": "code",
   "execution_count": 71,
   "metadata": {},
   "outputs": [],
   "source": [
    "df.columns = year"
   ]
  },
  {
   "cell_type": "code",
   "execution_count": 72,
   "metadata": {},
   "outputs": [
    {
     "data": {
      "text/html": [
       "<div>\n",
       "<style scoped>\n",
       "    .dataframe tbody tr th:only-of-type {\n",
       "        vertical-align: middle;\n",
       "    }\n",
       "\n",
       "    .dataframe tbody tr th {\n",
       "        vertical-align: top;\n",
       "    }\n",
       "\n",
       "    .dataframe thead th {\n",
       "        text-align: right;\n",
       "    }\n",
       "</style>\n",
       "<table border=\"1\" class=\"dataframe\">\n",
       "  <thead>\n",
       "    <tr style=\"text-align: right;\">\n",
       "      <th></th>\n",
       "      <th>구분</th>\n",
       "      <th>시군구</th>\n",
       "      <th>2013년 12월</th>\n",
       "      <th>2014년 1월</th>\n",
       "      <th>2014년 2월</th>\n",
       "      <th>2014년 3월</th>\n",
       "      <th>2014년 4월</th>\n",
       "      <th>2014년 5월</th>\n",
       "      <th>2014년 6월</th>\n",
       "      <th>2014년 7월</th>\n",
       "      <th>...</th>\n",
       "      <th>2015년 3월</th>\n",
       "      <th>2015년 4월</th>\n",
       "      <th>2015년 5월</th>\n",
       "      <th>2015년 6월</th>\n",
       "      <th>2015년 7월</th>\n",
       "      <th>2015년 8월</th>\n",
       "      <th>2015년 9월</th>\n",
       "      <th>2015년 전월비</th>\n",
       "      <th>2015년 전년말비</th>\n",
       "      <th>2015년 전년동월비</th>\n",
       "    </tr>\n",
       "  </thead>\n",
       "  <tbody>\n",
       "    <tr>\n",
       "      <th>2</th>\n",
       "      <td>전국</td>\n",
       "      <td>NaN</td>\n",
       "      <td>8,059</td>\n",
       "      <td>8,130</td>\n",
       "      <td>8,195</td>\n",
       "      <td>8,204</td>\n",
       "      <td>8,289</td>\n",
       "      <td>8,358</td>\n",
       "      <td>8,344</td>\n",
       "      <td>8,333</td>\n",
       "      <td>...</td>\n",
       "      <td>8,563</td>\n",
       "      <td>8,613</td>\n",
       "      <td>8,624</td>\n",
       "      <td>8,627</td>\n",
       "      <td>8,643</td>\n",
       "      <td>8,678</td>\n",
       "      <td>8,665</td>\n",
       "      <td>-13</td>\n",
       "      <td>82</td>\n",
       "      <td>207</td>\n",
       "    </tr>\n",
       "    <tr>\n",
       "      <th>3</th>\n",
       "      <td>서울</td>\n",
       "      <td>NaN</td>\n",
       "      <td>18,189</td>\n",
       "      <td>17,925</td>\n",
       "      <td>17,925</td>\n",
       "      <td>18,016</td>\n",
       "      <td>18,098</td>\n",
       "      <td>19,446</td>\n",
       "      <td>18,867</td>\n",
       "      <td>18,742</td>\n",
       "      <td>...</td>\n",
       "      <td>19,415</td>\n",
       "      <td>18,842</td>\n",
       "      <td>18,367</td>\n",
       "      <td>18,374</td>\n",
       "      <td>18,152</td>\n",
       "      <td>18,443</td>\n",
       "      <td>17,969</td>\n",
       "      <td>-474</td>\n",
       "      <td>-2,300</td>\n",
       "      <td>-1,434</td>\n",
       "    </tr>\n",
       "    <tr>\n",
       "      <th>4</th>\n",
       "      <td>6대광역시</td>\n",
       "      <td>부산</td>\n",
       "      <td>8,111</td>\n",
       "      <td>8,111</td>\n",
       "      <td>9,078</td>\n",
       "      <td>8,965</td>\n",
       "      <td>9,402</td>\n",
       "      <td>9,501</td>\n",
       "      <td>9,453</td>\n",
       "      <td>9,457</td>\n",
       "      <td>...</td>\n",
       "      <td>9,279</td>\n",
       "      <td>9,327</td>\n",
       "      <td>9,345</td>\n",
       "      <td>9,515</td>\n",
       "      <td>9,559</td>\n",
       "      <td>9,581</td>\n",
       "      <td>9,608</td>\n",
       "      <td>1</td>\n",
       "      <td>430</td>\n",
       "      <td>477</td>\n",
       "    </tr>\n",
       "    <tr>\n",
       "      <th>5</th>\n",
       "      <td>NaN</td>\n",
       "      <td>대구</td>\n",
       "      <td>8,080</td>\n",
       "      <td>8,080</td>\n",
       "      <td>8,077</td>\n",
       "      <td>8,101</td>\n",
       "      <td>8,267</td>\n",
       "      <td>8,274</td>\n",
       "      <td>8,360</td>\n",
       "      <td>8,360</td>\n",
       "      <td>...</td>\n",
       "      <td>8,441</td>\n",
       "      <td>8,446</td>\n",
       "      <td>8,568</td>\n",
       "      <td>8,542</td>\n",
       "      <td>8,542</td>\n",
       "      <td>8,795</td>\n",
       "      <td>8,863</td>\n",
       "      <td>27</td>\n",
       "      <td>400</td>\n",
       "      <td>350</td>\n",
       "    </tr>\n",
       "    <tr>\n",
       "      <th>6</th>\n",
       "      <td>NaN</td>\n",
       "      <td>인천</td>\n",
       "      <td>10,204</td>\n",
       "      <td>10,204</td>\n",
       "      <td>10,408</td>\n",
       "      <td>10,408</td>\n",
       "      <td>10,000</td>\n",
       "      <td>9,844</td>\n",
       "      <td>10,058</td>\n",
       "      <td>9,974</td>\n",
       "      <td>...</td>\n",
       "      <td>9,876</td>\n",
       "      <td>9,938</td>\n",
       "      <td>10,551</td>\n",
       "      <td>10,443</td>\n",
       "      <td>10,443</td>\n",
       "      <td>10,449</td>\n",
       "      <td>10,450</td>\n",
       "      <td>-162</td>\n",
       "      <td>-150</td>\n",
       "      <td>-131</td>\n",
       "    </tr>\n",
       "    <tr>\n",
       "      <th>7</th>\n",
       "      <td>NaN</td>\n",
       "      <td>광주</td>\n",
       "      <td>6,098</td>\n",
       "      <td>7,326</td>\n",
       "      <td>7,611</td>\n",
       "      <td>7,346</td>\n",
       "      <td>7,346</td>\n",
       "      <td>7,523</td>\n",
       "      <td>7,659</td>\n",
       "      <td>7,612</td>\n",
       "      <td>...</td>\n",
       "      <td>7,861</td>\n",
       "      <td>7,914</td>\n",
       "      <td>7,877</td>\n",
       "      <td>7,881</td>\n",
       "      <td>8,089</td>\n",
       "      <td>8,231</td>\n",
       "      <td>8,083</td>\n",
       "      <td>-148</td>\n",
       "      <td>334</td>\n",
       "      <td>281</td>\n",
       "    </tr>\n",
       "    <tr>\n",
       "      <th>8</th>\n",
       "      <td>NaN</td>\n",
       "      <td>대전</td>\n",
       "      <td>8,321</td>\n",
       "      <td>8,321</td>\n",
       "      <td>8,321</td>\n",
       "      <td>8,341</td>\n",
       "      <td>8,341</td>\n",
       "      <td>8,341</td>\n",
       "      <td>8,333</td>\n",
       "      <td>8,333</td>\n",
       "      <td>...</td>\n",
       "      <td>8,067</td>\n",
       "      <td>8,145</td>\n",
       "      <td>8,272</td>\n",
       "      <td>8,079</td>\n",
       "      <td>8,079</td>\n",
       "      <td>8,079</td>\n",
       "      <td>7,917</td>\n",
       "      <td>68</td>\n",
       "      <td>610</td>\n",
       "      <td>414</td>\n",
       "    </tr>\n",
       "    <tr>\n",
       "      <th>9</th>\n",
       "      <td>NaN</td>\n",
       "      <td>울산</td>\n",
       "      <td>8,090</td>\n",
       "      <td>8,090</td>\n",
       "      <td>8,090</td>\n",
       "      <td>8,153</td>\n",
       "      <td>8,153</td>\n",
       "      <td>8,153</td>\n",
       "      <td>8,153</td>\n",
       "      <td>8,153</td>\n",
       "      <td>...</td>\n",
       "      <td>8,629</td>\n",
       "      <td>9,380</td>\n",
       "      <td>9,192</td>\n",
       "      <td>9,190</td>\n",
       "      <td>9,190</td>\n",
       "      <td>9,215</td>\n",
       "      <td>9,215</td>\n",
       "      <td>0</td>\n",
       "      <td>324</td>\n",
       "      <td>722</td>\n",
       "    </tr>\n",
       "    <tr>\n",
       "      <th>10</th>\n",
       "      <td>NaN</td>\n",
       "      <td>NaN</td>\n",
       "      <td>8,151</td>\n",
       "      <td>8,355</td>\n",
       "      <td>8,597</td>\n",
       "      <td>8,552</td>\n",
       "      <td>8,585</td>\n",
       "      <td>8,606</td>\n",
       "      <td>8,669</td>\n",
       "      <td>8,648</td>\n",
       "      <td>...</td>\n",
       "      <td>8,692</td>\n",
       "      <td>8,858</td>\n",
       "      <td>8,967</td>\n",
       "      <td>8,942</td>\n",
       "      <td>8,984</td>\n",
       "      <td>9,058</td>\n",
       "      <td>9,023</td>\n",
       "      <td>-36</td>\n",
       "      <td>325</td>\n",
       "      <td>352</td>\n",
       "    </tr>\n",
       "    <tr>\n",
       "      <th>11</th>\n",
       "      <td>경기</td>\n",
       "      <td>NaN</td>\n",
       "      <td>10,855</td>\n",
       "      <td>10,855</td>\n",
       "      <td>10,791</td>\n",
       "      <td>10,784</td>\n",
       "      <td>10,876</td>\n",
       "      <td>10,646</td>\n",
       "      <td>10,266</td>\n",
       "      <td>10,124</td>\n",
       "      <td>...</td>\n",
       "      <td>10,469</td>\n",
       "      <td>10,684</td>\n",
       "      <td>10,685</td>\n",
       "      <td>10,573</td>\n",
       "      <td>10,518</td>\n",
       "      <td>10,573</td>\n",
       "      <td>10,341</td>\n",
       "      <td>-232</td>\n",
       "      <td>-38</td>\n",
       "      <td>-160</td>\n",
       "    </tr>\n",
       "    <tr>\n",
       "      <th>12</th>\n",
       "      <td>수도권</td>\n",
       "      <td>NaN</td>\n",
       "      <td>13,083</td>\n",
       "      <td>12,995</td>\n",
       "      <td>13,041</td>\n",
       "      <td>13,069</td>\n",
       "      <td>12,991</td>\n",
       "      <td>13,312</td>\n",
       "      <td>13,064</td>\n",
       "      <td>12,947</td>\n",
       "      <td>...</td>\n",
       "      <td>13,253</td>\n",
       "      <td>13,155</td>\n",
       "      <td>13,201</td>\n",
       "      <td>13,130</td>\n",
       "      <td>13,038</td>\n",
       "      <td>13,155</td>\n",
       "      <td>12,920</td>\n",
       "      <td>-235</td>\n",
       "      <td>-636</td>\n",
       "      <td>-373</td>\n",
       "    </tr>\n",
       "    <tr>\n",
       "      <th>13</th>\n",
       "      <td>세종</td>\n",
       "      <td>NaN</td>\n",
       "      <td>7,601</td>\n",
       "      <td>7,600</td>\n",
       "      <td>7,532</td>\n",
       "      <td>7,814</td>\n",
       "      <td>7,908</td>\n",
       "      <td>7,934</td>\n",
       "      <td>8,067</td>\n",
       "      <td>8,067</td>\n",
       "      <td>...</td>\n",
       "      <td>8,555</td>\n",
       "      <td>8,546</td>\n",
       "      <td>8,546</td>\n",
       "      <td>8,671</td>\n",
       "      <td>8,669</td>\n",
       "      <td>8,695</td>\n",
       "      <td>8,715</td>\n",
       "      <td>20</td>\n",
       "      <td>155</td>\n",
       "      <td>434</td>\n",
       "    </tr>\n",
       "    <tr>\n",
       "      <th>14</th>\n",
       "      <td>지방</td>\n",
       "      <td>강원</td>\n",
       "      <td>6,230</td>\n",
       "      <td>6,230</td>\n",
       "      <td>6,230</td>\n",
       "      <td>6,141</td>\n",
       "      <td>6,373</td>\n",
       "      <td>6,350</td>\n",
       "      <td>6,350</td>\n",
       "      <td>6,268</td>\n",
       "      <td>...</td>\n",
       "      <td>6,182</td>\n",
       "      <td>6,924</td>\n",
       "      <td>6,846</td>\n",
       "      <td>6,986</td>\n",
       "      <td>7,019</td>\n",
       "      <td>7,008</td>\n",
       "      <td>7,121</td>\n",
       "      <td>113</td>\n",
       "      <td>756</td>\n",
       "      <td>702</td>\n",
       "    </tr>\n",
       "    <tr>\n",
       "      <th>15</th>\n",
       "      <td>NaN</td>\n",
       "      <td>충북</td>\n",
       "      <td>6,589</td>\n",
       "      <td>6,589</td>\n",
       "      <td>6,611</td>\n",
       "      <td>6,625</td>\n",
       "      <td>6,678</td>\n",
       "      <td>6,598</td>\n",
       "      <td>6,587</td>\n",
       "      <td>6,586</td>\n",
       "      <td>...</td>\n",
       "      <td>6,783</td>\n",
       "      <td>6,790</td>\n",
       "      <td>6,805</td>\n",
       "      <td>6,682</td>\n",
       "      <td>6,601</td>\n",
       "      <td>6,603</td>\n",
       "      <td>6,606</td>\n",
       "      <td>3</td>\n",
       "      <td>-137</td>\n",
       "      <td>22</td>\n",
       "    </tr>\n",
       "    <tr>\n",
       "      <th>16</th>\n",
       "      <td>NaN</td>\n",
       "      <td>충남</td>\n",
       "      <td>6,365</td>\n",
       "      <td>6,365</td>\n",
       "      <td>6,379</td>\n",
       "      <td>6,287</td>\n",
       "      <td>6,552</td>\n",
       "      <td>6,591</td>\n",
       "      <td>6,644</td>\n",
       "      <td>6,805</td>\n",
       "      <td>...</td>\n",
       "      <td>7,161</td>\n",
       "      <td>7,017</td>\n",
       "      <td>6,975</td>\n",
       "      <td>6,939</td>\n",
       "      <td>6,935</td>\n",
       "      <td>6,942</td>\n",
       "      <td>6,939</td>\n",
       "      <td>-3</td>\n",
       "      <td>-50</td>\n",
       "      <td>57</td>\n",
       "    </tr>\n",
       "    <tr>\n",
       "      <th>17</th>\n",
       "      <td>NaN</td>\n",
       "      <td>전북</td>\n",
       "      <td>6,282</td>\n",
       "      <td>6,281</td>\n",
       "      <td>5,946</td>\n",
       "      <td>5,966</td>\n",
       "      <td>6,277</td>\n",
       "      <td>6,306</td>\n",
       "      <td>6,351</td>\n",
       "      <td>6,319</td>\n",
       "      <td>...</td>\n",
       "      <td>6,542</td>\n",
       "      <td>6,551</td>\n",
       "      <td>6,556</td>\n",
       "      <td>6,601</td>\n",
       "      <td>6,750</td>\n",
       "      <td>6,580</td>\n",
       "      <td>6,885</td>\n",
       "      <td>304</td>\n",
       "      <td>301</td>\n",
       "      <td>165</td>\n",
       "    </tr>\n",
       "    <tr>\n",
       "      <th>18</th>\n",
       "      <td>NaN</td>\n",
       "      <td>전남</td>\n",
       "      <td>5,678</td>\n",
       "      <td>5,678</td>\n",
       "      <td>5,678</td>\n",
       "      <td>5,696</td>\n",
       "      <td>5,736</td>\n",
       "      <td>5,656</td>\n",
       "      <td>5,609</td>\n",
       "      <td>5,780</td>\n",
       "      <td>...</td>\n",
       "      <td>5,825</td>\n",
       "      <td>5,940</td>\n",
       "      <td>6,050</td>\n",
       "      <td>6,243</td>\n",
       "      <td>6,286</td>\n",
       "      <td>6,289</td>\n",
       "      <td>6,245</td>\n",
       "      <td>-43</td>\n",
       "      <td>461</td>\n",
       "      <td>441</td>\n",
       "    </tr>\n",
       "    <tr>\n",
       "      <th>19</th>\n",
       "      <td>NaN</td>\n",
       "      <td>경북</td>\n",
       "      <td>6,168</td>\n",
       "      <td>6,168</td>\n",
       "      <td>6,234</td>\n",
       "      <td>6,317</td>\n",
       "      <td>6,412</td>\n",
       "      <td>6,409</td>\n",
       "      <td>6,554</td>\n",
       "      <td>6,556</td>\n",
       "      <td>...</td>\n",
       "      <td>6,997</td>\n",
       "      <td>7,006</td>\n",
       "      <td>6,966</td>\n",
       "      <td>6,887</td>\n",
       "      <td>7,035</td>\n",
       "      <td>7,037</td>\n",
       "      <td>7,029</td>\n",
       "      <td>-9</td>\n",
       "      <td>39</td>\n",
       "      <td>451</td>\n",
       "    </tr>\n",
       "    <tr>\n",
       "      <th>20</th>\n",
       "      <td>NaN</td>\n",
       "      <td>경남</td>\n",
       "      <td>6,473</td>\n",
       "      <td>6,485</td>\n",
       "      <td>6,502</td>\n",
       "      <td>6,610</td>\n",
       "      <td>6,599</td>\n",
       "      <td>6,610</td>\n",
       "      <td>6,615</td>\n",
       "      <td>6,613</td>\n",
       "      <td>...</td>\n",
       "      <td>7,668</td>\n",
       "      <td>7,683</td>\n",
       "      <td>7,717</td>\n",
       "      <td>7,715</td>\n",
       "      <td>7,723</td>\n",
       "      <td>7,665</td>\n",
       "      <td>7,947</td>\n",
       "      <td>282</td>\n",
       "      <td>615</td>\n",
       "      <td>1,179</td>\n",
       "    </tr>\n",
       "    <tr>\n",
       "      <th>21</th>\n",
       "      <td>NaN</td>\n",
       "      <td>제주</td>\n",
       "      <td>7,674</td>\n",
       "      <td>7,900</td>\n",
       "      <td>7,900</td>\n",
       "      <td>7,900</td>\n",
       "      <td>7,900</td>\n",
       "      <td>7,900</td>\n",
       "      <td>7,914</td>\n",
       "      <td>7,914</td>\n",
       "      <td>...</td>\n",
       "      <td>7,826</td>\n",
       "      <td>7,285</td>\n",
       "      <td>7,285</td>\n",
       "      <td>7,343</td>\n",
       "      <td>7,343</td>\n",
       "      <td>7,343</td>\n",
       "      <td>7,379</td>\n",
       "      <td>36</td>\n",
       "      <td>-360</td>\n",
       "      <td>-453</td>\n",
       "    </tr>\n",
       "    <tr>\n",
       "      <th>22</th>\n",
       "      <td>NaN</td>\n",
       "      <td>NaN</td>\n",
       "      <td>6,432</td>\n",
       "      <td>6,462</td>\n",
       "      <td>6,435</td>\n",
       "      <td>6,443</td>\n",
       "      <td>6,566</td>\n",
       "      <td>6,552</td>\n",
       "      <td>6,578</td>\n",
       "      <td>6,605</td>\n",
       "      <td>...</td>\n",
       "      <td>6,873</td>\n",
       "      <td>6,899</td>\n",
       "      <td>6,900</td>\n",
       "      <td>6,925</td>\n",
       "      <td>6,961</td>\n",
       "      <td>6,933</td>\n",
       "      <td>7,019</td>\n",
       "      <td>85</td>\n",
       "      <td>203</td>\n",
       "      <td>321</td>\n",
       "    </tr>\n",
       "  </tbody>\n",
       "</table>\n",
       "<p>21 rows × 27 columns</p>\n",
       "</div>"
      ],
      "text/plain": [
       "0      구분  시군구 2013년 12월 2014년 1월 2014년 2월 2014년 3월 2014년 4월 2014년 5월  \\\n",
       "2      전국  NaN     8,059    8,130    8,195    8,204    8,289    8,358   \n",
       "3      서울  NaN    18,189   17,925   17,925   18,016   18,098   19,446   \n",
       "4   6대광역시   부산     8,111    8,111    9,078    8,965    9,402    9,501   \n",
       "5     NaN   대구     8,080    8,080    8,077    8,101    8,267    8,274   \n",
       "6     NaN   인천    10,204   10,204   10,408   10,408   10,000    9,844   \n",
       "7     NaN   광주     6,098    7,326    7,611    7,346    7,346    7,523   \n",
       "8     NaN   대전     8,321    8,321    8,321    8,341    8,341    8,341   \n",
       "9     NaN   울산     8,090    8,090    8,090    8,153    8,153    8,153   \n",
       "10    NaN  NaN     8,151    8,355    8,597    8,552    8,585    8,606   \n",
       "11     경기  NaN    10,855   10,855   10,791   10,784   10,876   10,646   \n",
       "12    수도권  NaN    13,083   12,995   13,041   13,069   12,991   13,312   \n",
       "13     세종  NaN     7,601    7,600    7,532    7,814    7,908    7,934   \n",
       "14     지방   강원     6,230    6,230    6,230    6,141    6,373    6,350   \n",
       "15    NaN   충북     6,589    6,589    6,611    6,625    6,678    6,598   \n",
       "16    NaN   충남     6,365    6,365    6,379    6,287    6,552    6,591   \n",
       "17    NaN   전북     6,282    6,281    5,946    5,966    6,277    6,306   \n",
       "18    NaN   전남     5,678    5,678    5,678    5,696    5,736    5,656   \n",
       "19    NaN   경북     6,168    6,168    6,234    6,317    6,412    6,409   \n",
       "20    NaN   경남     6,473    6,485    6,502    6,610    6,599    6,610   \n",
       "21    NaN   제주     7,674    7,900    7,900    7,900    7,900    7,900   \n",
       "22    NaN  NaN     6,432    6,462    6,435    6,443    6,566    6,552   \n",
       "\n",
       "0  2014년 6월 2014년 7월     ...     2015년 3월 2015년 4월 2015년 5월 2015년 6월 2015년 7월  \\\n",
       "2     8,344    8,333     ...        8,563    8,613    8,624    8,627    8,643   \n",
       "3    18,867   18,742     ...       19,415   18,842   18,367   18,374   18,152   \n",
       "4     9,453    9,457     ...        9,279    9,327    9,345    9,515    9,559   \n",
       "5     8,360    8,360     ...        8,441    8,446    8,568    8,542    8,542   \n",
       "6    10,058    9,974     ...        9,876    9,938   10,551   10,443   10,443   \n",
       "7     7,659    7,612     ...        7,861    7,914    7,877    7,881    8,089   \n",
       "8     8,333    8,333     ...        8,067    8,145    8,272    8,079    8,079   \n",
       "9     8,153    8,153     ...        8,629    9,380    9,192    9,190    9,190   \n",
       "10    8,669    8,648     ...        8,692    8,858    8,967    8,942    8,984   \n",
       "11   10,266   10,124     ...       10,469   10,684   10,685   10,573   10,518   \n",
       "12   13,064   12,947     ...       13,253   13,155   13,201   13,130   13,038   \n",
       "13    8,067    8,067     ...        8,555    8,546    8,546    8,671    8,669   \n",
       "14    6,350    6,268     ...        6,182    6,924    6,846    6,986    7,019   \n",
       "15    6,587    6,586     ...        6,783    6,790    6,805    6,682    6,601   \n",
       "16    6,644    6,805     ...        7,161    7,017    6,975    6,939    6,935   \n",
       "17    6,351    6,319     ...        6,542    6,551    6,556    6,601    6,750   \n",
       "18    5,609    5,780     ...        5,825    5,940    6,050    6,243    6,286   \n",
       "19    6,554    6,556     ...        6,997    7,006    6,966    6,887    7,035   \n",
       "20    6,615    6,613     ...        7,668    7,683    7,717    7,715    7,723   \n",
       "21    7,914    7,914     ...        7,826    7,285    7,285    7,343    7,343   \n",
       "22    6,578    6,605     ...        6,873    6,899    6,900    6,925    6,961   \n",
       "\n",
       "0  2015년 8월 2015년 9월 2015년 전월비 2015년 전년말비 2015년 전년동월비  \n",
       "2     8,678    8,665      -13         82         207   \n",
       "3    18,443   17,969     -474     -2,300      -1,434   \n",
       "4     9,581    9,608        1        430         477   \n",
       "5     8,795    8,863       27        400         350   \n",
       "6    10,449   10,450     -162       -150        -131   \n",
       "7     8,231    8,083     -148        334         281   \n",
       "8     8,079    7,917       68        610         414   \n",
       "9     9,215    9,215        0        324         722   \n",
       "10    9,058    9,023      -36        325         352   \n",
       "11   10,573   10,341     -232        -38        -160   \n",
       "12   13,155   12,920     -235       -636        -373   \n",
       "13    8,695    8,715       20        155         434   \n",
       "14    7,008    7,121      113        756         702   \n",
       "15    6,603    6,606        3       -137          22   \n",
       "16    6,942    6,939       -3        -50          57   \n",
       "17    6,580    6,885      304        301         165   \n",
       "18    6,289    6,245      -43        461         441   \n",
       "19    7,037    7,029       -9         39         451   \n",
       "20    7,665    7,947      282        615       1,179   \n",
       "21    7,343    7,379       36       -360        -453   \n",
       "22    6,933    7,019       85        203         321   \n",
       "\n",
       "[21 rows x 27 columns]"
      ]
     },
     "execution_count": 72,
     "metadata": {},
     "output_type": "execute_result"
    }
   ],
   "source": [
    "df = df.drop(df.index[[0,1]])\n",
    "df"
   ]
  },
  {
   "cell_type": "code",
   "execution_count": 73,
   "metadata": {},
   "outputs": [],
   "source": [
    "df['구분'] = df['구분'].fillna('')\n",
    "df['시군구'] = df['시군구'].fillna('')"
   ]
  },
  {
   "cell_type": "code",
   "execution_count": 74,
   "metadata": {},
   "outputs": [
    {
     "data": {
      "text/plain": [
       "2          전국\n",
       "3          서울\n",
       "4     6대광역시부산\n",
       "5          대구\n",
       "6          인천\n",
       "7          광주\n",
       "8          대전\n",
       "9          울산\n",
       "10           \n",
       "11         경기\n",
       "12        수도권\n",
       "13         세종\n",
       "14       지방강원\n",
       "15         충북\n",
       "16         충남\n",
       "17         전북\n",
       "18         전남\n",
       "19         경북\n",
       "20         경남\n",
       "21         제주\n",
       "22           \n",
       "Name: 지역, dtype: object"
      ]
     },
     "execution_count": 74,
     "metadata": {},
     "output_type": "execute_result"
    }
   ],
   "source": [
    "df['지역'] = df['구분'] + df ['시군구']\n",
    "df['지역']"
   ]
  },
  {
   "cell_type": "code",
   "execution_count": 75,
   "metadata": {},
   "outputs": [
    {
     "data": {
      "text/plain": [
       "Index(['구분', '시군구', '2013년 12월', '2014년 1월', '2014년 2월', '2014년 3월',\n",
       "       '2014년 4월', '2014년 5월', '2014년 6월', '2014년 7월', '2014년 8월', '2014년 9월',\n",
       "       '2014년 10월', '2014년 11월', '2014년 12월', '2015년 1월', '2015년 2월',\n",
       "       '2015년 3월', '2015년 4월', '2015년 5월', '2015년 6월', '2015년 7월', '2015년 8월',\n",
       "       '2015년 9월', '2015년 전월비', '2015년 전년말비', '2015년 전년동월비', '지역'],\n",
       "      dtype='object', name=0)"
      ]
     },
     "execution_count": 75,
     "metadata": {},
     "output_type": "execute_result"
    }
   ],
   "source": [
    "melt_columns = df.columns.copy()\n",
    "melt_columns"
   ]
  },
  {
   "cell_type": "code",
   "execution_count": 76,
   "metadata": {},
   "outputs": [
    {
     "data": {
      "text/html": [
       "<div>\n",
       "<style scoped>\n",
       "    .dataframe tbody tr th:only-of-type {\n",
       "        vertical-align: middle;\n",
       "    }\n",
       "\n",
       "    .dataframe tbody tr th {\n",
       "        vertical-align: top;\n",
       "    }\n",
       "\n",
       "    .dataframe thead th {\n",
       "        text-align: right;\n",
       "    }\n",
       "</style>\n",
       "<table border=\"1\" class=\"dataframe\">\n",
       "  <thead>\n",
       "    <tr style=\"text-align: right;\">\n",
       "      <th></th>\n",
       "      <th>지역</th>\n",
       "      <th>0</th>\n",
       "      <th>value</th>\n",
       "    </tr>\n",
       "  </thead>\n",
       "  <tbody>\n",
       "    <tr>\n",
       "      <th>0</th>\n",
       "      <td>전국</td>\n",
       "      <td>2013년 12월</td>\n",
       "      <td>8,059</td>\n",
       "    </tr>\n",
       "    <tr>\n",
       "      <th>1</th>\n",
       "      <td>서울</td>\n",
       "      <td>2013년 12월</td>\n",
       "      <td>18,189</td>\n",
       "    </tr>\n",
       "    <tr>\n",
       "      <th>2</th>\n",
       "      <td>6대광역시부산</td>\n",
       "      <td>2013년 12월</td>\n",
       "      <td>8,111</td>\n",
       "    </tr>\n",
       "    <tr>\n",
       "      <th>3</th>\n",
       "      <td>대구</td>\n",
       "      <td>2013년 12월</td>\n",
       "      <td>8,080</td>\n",
       "    </tr>\n",
       "    <tr>\n",
       "      <th>4</th>\n",
       "      <td>인천</td>\n",
       "      <td>2013년 12월</td>\n",
       "      <td>10,204</td>\n",
       "    </tr>\n",
       "  </tbody>\n",
       "</table>\n",
       "</div>"
      ],
      "text/plain": [
       "        지역          0   value\n",
       "0       전국  2013년 12월   8,059\n",
       "1       서울  2013년 12월  18,189\n",
       "2  6대광역시부산  2013년 12월   8,111\n",
       "3       대구  2013년 12월   8,080\n",
       "4       인천  2013년 12월  10,204"
      ]
     },
     "execution_count": 76,
     "metadata": {},
     "output_type": "execute_result"
    }
   ],
   "source": [
    "df_2013_2015 = pd.melt(df, id_vars=['지역'],value_vars = ['2013년 12월', '2014년 1월', '2014년 2월', '2014년 3월',\n",
    "       '2014년 4월', '2014년 5월', '2014년 6월', '2014년 7월', '2014년 8월', '2014년 9월',\n",
    "       '2014년 10월', '2014년 11월', '2014년 12월', '2015년 1월', '2015년 2월',\n",
    "       '2015년 3월', '2015년 4월', '2015년 5월', '2015년 6월', '2015년 7월', '2015년 8월',\n",
    "       '2015년 9월'])\n",
    "df_2013_2015.head()"
   ]
  },
  {
   "cell_type": "code",
   "execution_count": 77,
   "metadata": {},
   "outputs": [],
   "source": [
    "df_2013_2015.columns = ['지역','기간','분양가']"
   ]
  },
  {
   "cell_type": "code",
   "execution_count": 78,
   "metadata": {},
   "outputs": [
    {
     "data": {
      "text/html": [
       "<div>\n",
       "<style scoped>\n",
       "    .dataframe tbody tr th:only-of-type {\n",
       "        vertical-align: middle;\n",
       "    }\n",
       "\n",
       "    .dataframe tbody tr th {\n",
       "        vertical-align: top;\n",
       "    }\n",
       "\n",
       "    .dataframe thead th {\n",
       "        text-align: right;\n",
       "    }\n",
       "</style>\n",
       "<table border=\"1\" class=\"dataframe\">\n",
       "  <thead>\n",
       "    <tr style=\"text-align: right;\">\n",
       "      <th></th>\n",
       "      <th>지역</th>\n",
       "      <th>기간</th>\n",
       "      <th>분양가</th>\n",
       "    </tr>\n",
       "  </thead>\n",
       "  <tbody>\n",
       "    <tr>\n",
       "      <th>0</th>\n",
       "      <td>전국</td>\n",
       "      <td>2013년 12월</td>\n",
       "      <td>8,059</td>\n",
       "    </tr>\n",
       "    <tr>\n",
       "      <th>1</th>\n",
       "      <td>서울</td>\n",
       "      <td>2013년 12월</td>\n",
       "      <td>18,189</td>\n",
       "    </tr>\n",
       "    <tr>\n",
       "      <th>2</th>\n",
       "      <td>6대광역시부산</td>\n",
       "      <td>2013년 12월</td>\n",
       "      <td>8,111</td>\n",
       "    </tr>\n",
       "    <tr>\n",
       "      <th>3</th>\n",
       "      <td>대구</td>\n",
       "      <td>2013년 12월</td>\n",
       "      <td>8,080</td>\n",
       "    </tr>\n",
       "    <tr>\n",
       "      <th>4</th>\n",
       "      <td>인천</td>\n",
       "      <td>2013년 12월</td>\n",
       "      <td>10,204</td>\n",
       "    </tr>\n",
       "  </tbody>\n",
       "</table>\n",
       "</div>"
      ],
      "text/plain": [
       "        지역         기간     분양가\n",
       "0       전국  2013년 12월   8,059\n",
       "1       서울  2013년 12월  18,189\n",
       "2  6대광역시부산  2013년 12월   8,111\n",
       "3       대구  2013년 12월   8,080\n",
       "4       인천  2013년 12월  10,204"
      ]
     },
     "execution_count": 78,
     "metadata": {},
     "output_type": "execute_result"
    }
   ],
   "source": [
    "df_2013_2015.head()"
   ]
  },
  {
   "cell_type": "code",
   "execution_count": 88,
   "metadata": {},
   "outputs": [],
   "source": [
    "df_2013_2015['연도'] = df_2013_2015['기간'].apply(lambda year_month : year_month.split('년')[0])\n"
   ]
  },
  {
   "cell_type": "code",
   "execution_count": 92,
   "metadata": {},
   "outputs": [],
   "source": [
    "df_2013_2015['월'] = df_2013_2015['기간'].apply(lambda year_month : re.sub('월','',year_month.split('년')[1]).strip())"
   ]
  },
  {
   "cell_type": "code",
   "execution_count": 93,
   "metadata": {},
   "outputs": [
    {
     "data": {
      "text/html": [
       "<div>\n",
       "<style scoped>\n",
       "    .dataframe tbody tr th:only-of-type {\n",
       "        vertical-align: middle;\n",
       "    }\n",
       "\n",
       "    .dataframe tbody tr th {\n",
       "        vertical-align: top;\n",
       "    }\n",
       "\n",
       "    .dataframe thead th {\n",
       "        text-align: right;\n",
       "    }\n",
       "</style>\n",
       "<table border=\"1\" class=\"dataframe\">\n",
       "  <thead>\n",
       "    <tr style=\"text-align: right;\">\n",
       "      <th></th>\n",
       "      <th>지역</th>\n",
       "      <th>기간</th>\n",
       "      <th>분양가</th>\n",
       "      <th>연도</th>\n",
       "      <th>월</th>\n",
       "    </tr>\n",
       "  </thead>\n",
       "  <tbody>\n",
       "    <tr>\n",
       "      <th>0</th>\n",
       "      <td>전국</td>\n",
       "      <td>2013년 12월</td>\n",
       "      <td>8,059</td>\n",
       "      <td>2013</td>\n",
       "      <td>12</td>\n",
       "    </tr>\n",
       "    <tr>\n",
       "      <th>1</th>\n",
       "      <td>서울</td>\n",
       "      <td>2013년 12월</td>\n",
       "      <td>18,189</td>\n",
       "      <td>2013</td>\n",
       "      <td>12</td>\n",
       "    </tr>\n",
       "    <tr>\n",
       "      <th>2</th>\n",
       "      <td>6대광역시부산</td>\n",
       "      <td>2013년 12월</td>\n",
       "      <td>8,111</td>\n",
       "      <td>2013</td>\n",
       "      <td>12</td>\n",
       "    </tr>\n",
       "    <tr>\n",
       "      <th>3</th>\n",
       "      <td>대구</td>\n",
       "      <td>2013년 12월</td>\n",
       "      <td>8,080</td>\n",
       "      <td>2013</td>\n",
       "      <td>12</td>\n",
       "    </tr>\n",
       "    <tr>\n",
       "      <th>4</th>\n",
       "      <td>인천</td>\n",
       "      <td>2013년 12월</td>\n",
       "      <td>10,204</td>\n",
       "      <td>2013</td>\n",
       "      <td>12</td>\n",
       "    </tr>\n",
       "  </tbody>\n",
       "</table>\n",
       "</div>"
      ],
      "text/plain": [
       "        지역         기간     분양가    연도   월\n",
       "0       전국  2013년 12월   8,059  2013  12\n",
       "1       서울  2013년 12월  18,189  2013  12\n",
       "2  6대광역시부산  2013년 12월   8,111  2013  12\n",
       "3       대구  2013년 12월   8,080  2013  12\n",
       "4       인천  2013년 12월  10,204  2013  12"
      ]
     },
     "execution_count": 93,
     "metadata": {},
     "output_type": "execute_result"
    }
   ],
   "source": [
    "df_2013_2015.head()"
   ]
  },
  {
   "cell_type": "code",
   "execution_count": 96,
   "metadata": {},
   "outputs": [
    {
     "data": {
      "text/plain": [
       "       44\n",
       "전남     22\n",
       "경북     22\n",
       "서울     22\n",
       "수도권    22\n",
       "대전     22\n",
       "전국     22\n",
       "전북     22\n",
       "경기     22\n",
       "제주     22\n",
       "충남     22\n",
       "대구     22\n",
       "충북     22\n",
       "인천     22\n",
       "경남     22\n",
       "강원     22\n",
       "광주     22\n",
       "부산     22\n",
       "세종     22\n",
       "울산     22\n",
       "Name: 지역, dtype: int64"
      ]
     },
     "execution_count": 96,
     "metadata": {},
     "output_type": "execute_result"
    }
   ],
   "source": [
    "df_2013_2015 ['지역'] = df_2013_2015['지역'].apply(lambda x : re.sub('6대광역시부산','부산',x))\n",
    "df_2013_2015 ['지역'] = df_2013_2015['지역'].apply(lambda x : re.sub('지방강원','강원',x))\n",
    "df_2013_2015['지역'].value_counts()"
   ]
  },
  {
   "cell_type": "code",
   "execution_count": 97,
   "metadata": {},
   "outputs": [
    {
     "data": {
      "text/html": [
       "<div>\n",
       "<style scoped>\n",
       "    .dataframe tbody tr th:only-of-type {\n",
       "        vertical-align: middle;\n",
       "    }\n",
       "\n",
       "    .dataframe tbody tr th {\n",
       "        vertical-align: top;\n",
       "    }\n",
       "\n",
       "    .dataframe thead th {\n",
       "        text-align: right;\n",
       "    }\n",
       "</style>\n",
       "<table border=\"1\" class=\"dataframe\">\n",
       "  <thead>\n",
       "    <tr style=\"text-align: right;\">\n",
       "      <th></th>\n",
       "      <th>지역</th>\n",
       "      <th>기간</th>\n",
       "      <th>분양가</th>\n",
       "      <th>연도</th>\n",
       "      <th>월</th>\n",
       "    </tr>\n",
       "  </thead>\n",
       "  <tbody>\n",
       "    <tr>\n",
       "      <th>count</th>\n",
       "      <td>462</td>\n",
       "      <td>462</td>\n",
       "      <td>462</td>\n",
       "      <td>462</td>\n",
       "      <td>462</td>\n",
       "    </tr>\n",
       "    <tr>\n",
       "      <th>unique</th>\n",
       "      <td>20</td>\n",
       "      <td>22</td>\n",
       "      <td>371</td>\n",
       "      <td>3</td>\n",
       "      <td>12</td>\n",
       "    </tr>\n",
       "    <tr>\n",
       "      <th>top</th>\n",
       "      <td></td>\n",
       "      <td>2014년 8월</td>\n",
       "      <td>8,067</td>\n",
       "      <td>2014</td>\n",
       "      <td>3</td>\n",
       "    </tr>\n",
       "    <tr>\n",
       "      <th>freq</th>\n",
       "      <td>44</td>\n",
       "      <td>21</td>\n",
       "      <td>7</td>\n",
       "      <td>252</td>\n",
       "      <td>42</td>\n",
       "    </tr>\n",
       "  </tbody>\n",
       "</table>\n",
       "</div>"
      ],
      "text/plain": [
       "         지역        기간    분양가    연도    월\n",
       "count   462       462    462   462  462\n",
       "unique   20        22    371     3   12\n",
       "top          2014년 8월  8,067  2014    3\n",
       "freq     44        21      7   252   42"
      ]
     },
     "execution_count": 97,
     "metadata": {},
     "output_type": "execute_result"
    }
   ],
   "source": [
    "df_2013_2015.describe()"
   ]
  },
  {
   "cell_type": "code",
   "execution_count": 98,
   "metadata": {},
   "outputs": [
    {
     "name": "stdout",
     "output_type": "stream",
     "text": [
      "<class 'pandas.core.frame.DataFrame'>\n",
      "RangeIndex: 462 entries, 0 to 461\n",
      "Data columns (total 5 columns):\n",
      "지역     462 non-null object\n",
      "기간     462 non-null object\n",
      "분양가    462 non-null object\n",
      "연도     462 non-null object\n",
      "월      462 non-null object\n",
      "dtypes: object(5)\n",
      "memory usage: 18.1+ KB\n"
     ]
    }
   ],
   "source": [
    "df_2013_2015.info()"
   ]
  },
  {
   "cell_type": "code",
   "execution_count": 100,
   "metadata": {},
   "outputs": [],
   "source": [
    "df_2013_2015['분양가격'] = df_2013_2015['분양가'].str.replace(',','').astype(int)"
   ]
  },
  {
   "cell_type": "code",
   "execution_count": 101,
   "metadata": {},
   "outputs": [
    {
     "data": {
      "image/png": "[encoded data removed]",
      "text/plain": [
       "<Figure size 640x480 with 1 Axes>"
      ]
     },
     "metadata": {},
     "output_type": "display_data"
    },
    {
     "data": {
      "text/plain": [
       "<ggplot: (-9223371932747898294)>"
      ]
     },
     "execution_count": 101,
     "metadata": {},
     "output_type": "execute_result"
    }
   ],
   "source": [
    "(ggplot(df_2013_2015 , aes(x='지역',y='분양가격',fill='연도'))\n",
    "+geom_boxplot()\n",
    ")"
   ]
  },
  {
   "cell_type": "code",
   "execution_count": 103,
   "metadata": {},
   "outputs": [
    {
     "data": {
      "image/png": "[encoded data removed]",
      "text/plain": [
       "<Figure size 640x480 with 1 Axes>"
      ]
     },
     "metadata": {},
     "output_type": "display_data"
    },
    {
     "data": {
      "text/plain": [
       "<ggplot: (104106873152)>"
      ]
     },
     "execution_count": 103,
     "metadata": {},
     "output_type": "execute_result"
    }
   ],
   "source": [
    "(ggplot(df_2013_2015 , aes(x='지역',y='분양가격',fill='연도'))\n",
    "+geom_bar(stat = 'identity', position='dodge')\n",
    ")"
   ]
  },
  {
   "cell_type": "code",
   "execution_count": 104,
   "metadata": {},
   "outputs": [
    {
     "name": "stdout",
     "output_type": "stream",
     "text": [
      "(578, 7)\n"
     ]
    },
    {
     "data": {
      "text/html": [
       "<div>\n",
       "<style scoped>\n",
       "    .dataframe tbody tr th:only-of-type {\n",
       "        vertical-align: middle;\n",
       "    }\n",
       "\n",
       "    .dataframe tbody tr th {\n",
       "        vertical-align: top;\n",
       "    }\n",
       "\n",
       "    .dataframe thead th {\n",
       "        text-align: right;\n",
       "    }\n",
       "</style>\n",
       "<table border=\"1\" class=\"dataframe\">\n",
       "  <thead>\n",
       "    <tr style=\"text-align: right;\">\n",
       "      <th></th>\n",
       "      <th>지역명</th>\n",
       "      <th>규모구분</th>\n",
       "      <th>연도</th>\n",
       "      <th>월</th>\n",
       "      <th>분양가격(㎡)</th>\n",
       "      <th>분양가격</th>\n",
       "      <th>평당분양가격</th>\n",
       "    </tr>\n",
       "  </thead>\n",
       "  <tbody>\n",
       "    <tr>\n",
       "      <th>0</th>\n",
       "      <td>서울</td>\n",
       "      <td>전체</td>\n",
       "      <td>2015</td>\n",
       "      <td>10</td>\n",
       "      <td>5841</td>\n",
       "      <td>5841</td>\n",
       "      <td>19275</td>\n",
       "    </tr>\n",
       "    <tr>\n",
       "      <th>5</th>\n",
       "      <td>인천</td>\n",
       "      <td>전체</td>\n",
       "      <td>2015</td>\n",
       "      <td>10</td>\n",
       "      <td>3163</td>\n",
       "      <td>3163</td>\n",
       "      <td>10438</td>\n",
       "    </tr>\n",
       "    <tr>\n",
       "      <th>10</th>\n",
       "      <td>경기</td>\n",
       "      <td>전체</td>\n",
       "      <td>2015</td>\n",
       "      <td>10</td>\n",
       "      <td>3138</td>\n",
       "      <td>3138</td>\n",
       "      <td>10355</td>\n",
       "    </tr>\n",
       "    <tr>\n",
       "      <th>15</th>\n",
       "      <td>부산</td>\n",
       "      <td>전체</td>\n",
       "      <td>2015</td>\n",
       "      <td>10</td>\n",
       "      <td>3112</td>\n",
       "      <td>3112</td>\n",
       "      <td>10270</td>\n",
       "    </tr>\n",
       "    <tr>\n",
       "      <th>20</th>\n",
       "      <td>대구</td>\n",
       "      <td>전체</td>\n",
       "      <td>2015</td>\n",
       "      <td>10</td>\n",
       "      <td>2682</td>\n",
       "      <td>2682</td>\n",
       "      <td>8851</td>\n",
       "    </tr>\n",
       "  </tbody>\n",
       "</table>\n",
       "</div>"
      ],
      "text/plain": [
       "   지역명 규모구분    연도   월 분양가격(㎡)  분양가격  평당분양가격\n",
       "0   서울   전체  2015  10    5841  5841   19275\n",
       "5   인천   전체  2015  10    3163  3163   10438\n",
       "10  경기   전체  2015  10    3138  3138   10355\n",
       "15  부산   전체  2015  10    3112  3112   10270\n",
       "20  대구   전체  2015  10    2682  2682    8851"
      ]
     },
     "execution_count": 104,
     "metadata": {},
     "output_type": "execute_result"
    }
   ],
   "source": [
    "df_2015_2018 = pre_sale.loc[pre_sale['규모구분']=='전체']\n",
    "print(df_2015_2018.shape)\n",
    "df_2015_2018.head()"
   ]
  },
  {
   "cell_type": "code",
   "execution_count": 111,
   "metadata": {},
   "outputs": [],
   "source": [
    "df_2013_2015_prepare =df_2013_2015[['지역','연도','월','분양가격']]\n",
    "df_2013_2015_prepare.columns =['지역명','연도','월','평당분양가격']"
   ]
  },
  {
   "cell_type": "code",
   "execution_count": 113,
   "metadata": {},
   "outputs": [
    {
     "data": {
      "text/html": [
       "<div>\n",
       "<style scoped>\n",
       "    .dataframe tbody tr th:only-of-type {\n",
       "        vertical-align: middle;\n",
       "    }\n",
       "\n",
       "    .dataframe tbody tr th {\n",
       "        vertical-align: top;\n",
       "    }\n",
       "\n",
       "    .dataframe thead th {\n",
       "        text-align: right;\n",
       "    }\n",
       "</style>\n",
       "<table border=\"1\" class=\"dataframe\">\n",
       "  <thead>\n",
       "    <tr style=\"text-align: right;\">\n",
       "      <th></th>\n",
       "      <th>지역명</th>\n",
       "      <th>연도</th>\n",
       "      <th>월</th>\n",
       "      <th>평당분양가격</th>\n",
       "    </tr>\n",
       "  </thead>\n",
       "  <tbody>\n",
       "    <tr>\n",
       "      <th>0</th>\n",
       "      <td>서울</td>\n",
       "      <td>2015</td>\n",
       "      <td>10</td>\n",
       "      <td>19275</td>\n",
       "    </tr>\n",
       "    <tr>\n",
       "      <th>5</th>\n",
       "      <td>인천</td>\n",
       "      <td>2015</td>\n",
       "      <td>10</td>\n",
       "      <td>10438</td>\n",
       "    </tr>\n",
       "    <tr>\n",
       "      <th>10</th>\n",
       "      <td>경기</td>\n",
       "      <td>2015</td>\n",
       "      <td>10</td>\n",
       "      <td>10355</td>\n",
       "    </tr>\n",
       "    <tr>\n",
       "      <th>15</th>\n",
       "      <td>부산</td>\n",
       "      <td>2015</td>\n",
       "      <td>10</td>\n",
       "      <td>10270</td>\n",
       "    </tr>\n",
       "    <tr>\n",
       "      <th>20</th>\n",
       "      <td>대구</td>\n",
       "      <td>2015</td>\n",
       "      <td>10</td>\n",
       "      <td>8851</td>\n",
       "    </tr>\n",
       "  </tbody>\n",
       "</table>\n",
       "</div>"
      ],
      "text/plain": [
       "   지역명    연도   월  평당분양가격\n",
       "0   서울  2015  10   19275\n",
       "5   인천  2015  10   10438\n",
       "10  경기  2015  10   10355\n",
       "15  부산  2015  10   10270\n",
       "20  대구  2015  10    8851"
      ]
     },
     "execution_count": 113,
     "metadata": {},
     "output_type": "execute_result"
    }
   ],
   "source": [
    "df_2015_2018_prepare =df_2015_2018[['지역명','연도','월','평당분양가격']]\n",
    "df_2015_2018_prepare.head()"
   ]
  },
  {
   "cell_type": "code",
   "execution_count": 114,
   "metadata": {},
   "outputs": [
    {
     "data": {
      "text/html": [
       "<div>\n",
       "<style scoped>\n",
       "    .dataframe tbody tr th:only-of-type {\n",
       "        vertical-align: middle;\n",
       "    }\n",
       "\n",
       "    .dataframe tbody tr th {\n",
       "        vertical-align: top;\n",
       "    }\n",
       "\n",
       "    .dataframe thead th {\n",
       "        text-align: right;\n",
       "    }\n",
       "</style>\n",
       "<table border=\"1\" class=\"dataframe\">\n",
       "  <thead>\n",
       "    <tr style=\"text-align: right;\">\n",
       "      <th></th>\n",
       "      <th>평당분양가격</th>\n",
       "    </tr>\n",
       "  </thead>\n",
       "  <tbody>\n",
       "    <tr>\n",
       "      <th>count</th>\n",
       "      <td>561</td>\n",
       "    </tr>\n",
       "    <tr>\n",
       "      <th>mean</th>\n",
       "      <td>9729</td>\n",
       "    </tr>\n",
       "    <tr>\n",
       "      <th>std</th>\n",
       "      <td>3367</td>\n",
       "    </tr>\n",
       "    <tr>\n",
       "      <th>min</th>\n",
       "      <td>6300</td>\n",
       "    </tr>\n",
       "    <tr>\n",
       "      <th>25%</th>\n",
       "      <td>7498</td>\n",
       "    </tr>\n",
       "    <tr>\n",
       "      <th>50%</th>\n",
       "      <td>8973</td>\n",
       "    </tr>\n",
       "    <tr>\n",
       "      <th>75%</th>\n",
       "      <td>10560</td>\n",
       "    </tr>\n",
       "    <tr>\n",
       "      <th>max</th>\n",
       "      <td>22833</td>\n",
       "    </tr>\n",
       "  </tbody>\n",
       "</table>\n",
       "</div>"
      ],
      "text/plain": [
       "       평당분양가격\n",
       "count     561\n",
       "mean     9729\n",
       "std      3367\n",
       "min      6300\n",
       "25%      7498\n",
       "50%      8973\n",
       "75%     10560\n",
       "max     22833"
      ]
     },
     "execution_count": 114,
     "metadata": {},
     "output_type": "execute_result"
    }
   ],
   "source": [
    "df_2015_2018_prepare.describe()"
   ]
  },
  {
   "cell_type": "code",
   "execution_count": 126,
   "metadata": {},
   "outputs": [
    {
     "data": {
      "text/plain": [
       "(1040, 4)"
      ]
     },
     "execution_count": 126,
     "metadata": {},
     "output_type": "execute_result"
    }
   ],
   "source": [
    "df_2013_2018 = pd.concat([df_2013_2015_prepare,df_2015_2018_prepare])\n",
    "df_2013_2018.shape"
   ]
  },
  {
   "cell_type": "code",
   "execution_count": 127,
   "metadata": {},
   "outputs": [
    {
     "data": {
      "text/html": [
       "<div>\n",
       "<style scoped>\n",
       "    .dataframe tbody tr th:only-of-type {\n",
       "        vertical-align: middle;\n",
       "    }\n",
       "\n",
       "    .dataframe tbody tr th {\n",
       "        vertical-align: top;\n",
       "    }\n",
       "\n",
       "    .dataframe thead th {\n",
       "        text-align: right;\n",
       "    }\n",
       "</style>\n",
       "<table border=\"1\" class=\"dataframe\">\n",
       "  <thead>\n",
       "    <tr style=\"text-align: right;\">\n",
       "      <th></th>\n",
       "      <th>지역명</th>\n",
       "      <th>연도</th>\n",
       "      <th>월</th>\n",
       "      <th>평당분양가격</th>\n",
       "    </tr>\n",
       "  </thead>\n",
       "  <tbody>\n",
       "    <tr>\n",
       "      <th>0</th>\n",
       "      <td>전국</td>\n",
       "      <td>2013</td>\n",
       "      <td>12</td>\n",
       "      <td>8059</td>\n",
       "    </tr>\n",
       "    <tr>\n",
       "      <th>1</th>\n",
       "      <td>서울</td>\n",
       "      <td>2013</td>\n",
       "      <td>12</td>\n",
       "      <td>18189</td>\n",
       "    </tr>\n",
       "    <tr>\n",
       "      <th>2</th>\n",
       "      <td>부산</td>\n",
       "      <td>2013</td>\n",
       "      <td>12</td>\n",
       "      <td>8111</td>\n",
       "    </tr>\n",
       "    <tr>\n",
       "      <th>3</th>\n",
       "      <td>대구</td>\n",
       "      <td>2013</td>\n",
       "      <td>12</td>\n",
       "      <td>8080</td>\n",
       "    </tr>\n",
       "    <tr>\n",
       "      <th>4</th>\n",
       "      <td>인천</td>\n",
       "      <td>2013</td>\n",
       "      <td>12</td>\n",
       "      <td>10204</td>\n",
       "    </tr>\n",
       "  </tbody>\n",
       "</table>\n",
       "</div>"
      ],
      "text/plain": [
       "  지역명    연도   월  평당분양가격\n",
       "0  전국  2013  12    8059\n",
       "1  서울  2013  12   18189\n",
       "2  부산  2013  12    8111\n",
       "3  대구  2013  12    8080\n",
       "4  인천  2013  12   10204"
      ]
     },
     "execution_count": 127,
     "metadata": {},
     "output_type": "execute_result"
    }
   ],
   "source": [
    "df_2013_2018.head()"
   ]
  },
  {
   "cell_type": "code",
   "execution_count": 128,
   "metadata": {},
   "outputs": [
    {
     "data": {
      "text/html": [
       "<div>\n",
       "<style scoped>\n",
       "    .dataframe tbody tr th:only-of-type {\n",
       "        vertical-align: middle;\n",
       "    }\n",
       "\n",
       "    .dataframe tbody tr th {\n",
       "        vertical-align: top;\n",
       "    }\n",
       "\n",
       "    .dataframe thead th {\n",
       "        text-align: right;\n",
       "    }\n",
       "</style>\n",
       "<table border=\"1\" class=\"dataframe\">\n",
       "  <thead>\n",
       "    <tr style=\"text-align: right;\">\n",
       "      <th></th>\n",
       "      <th>지역명</th>\n",
       "      <th>연도</th>\n",
       "      <th>월</th>\n",
       "      <th>평당분양가격</th>\n",
       "    </tr>\n",
       "  </thead>\n",
       "  <tbody>\n",
       "    <tr>\n",
       "      <th>2865</th>\n",
       "      <td>전북</td>\n",
       "      <td>2018</td>\n",
       "      <td>7</td>\n",
       "      <td>7699</td>\n",
       "    </tr>\n",
       "    <tr>\n",
       "      <th>2870</th>\n",
       "      <td>전남</td>\n",
       "      <td>2018</td>\n",
       "      <td>7</td>\n",
       "      <td>7778</td>\n",
       "    </tr>\n",
       "    <tr>\n",
       "      <th>2875</th>\n",
       "      <td>경북</td>\n",
       "      <td>2018</td>\n",
       "      <td>7</td>\n",
       "      <td>8824</td>\n",
       "    </tr>\n",
       "    <tr>\n",
       "      <th>2880</th>\n",
       "      <td>경남</td>\n",
       "      <td>2018</td>\n",
       "      <td>7</td>\n",
       "      <td>8897</td>\n",
       "    </tr>\n",
       "    <tr>\n",
       "      <th>2885</th>\n",
       "      <td>제주</td>\n",
       "      <td>2018</td>\n",
       "      <td>7</td>\n",
       "      <td>11002</td>\n",
       "    </tr>\n",
       "  </tbody>\n",
       "</table>\n",
       "</div>"
      ],
      "text/plain": [
       "     지역명    연도  월  평당분양가격\n",
       "2865  전북  2018  7    7699\n",
       "2870  전남  2018  7    7778\n",
       "2875  경북  2018  7    8824\n",
       "2880  경남  2018  7    8897\n",
       "2885  제주  2018  7   11002"
      ]
     },
     "execution_count": 128,
     "metadata": {},
     "output_type": "execute_result"
    }
   ],
   "source": [
    "df_2013_2018.tail()"
   ]
  },
  {
   "cell_type": "code",
   "execution_count": 129,
   "metadata": {},
   "outputs": [],
   "source": [
    "df_2013_2015_region = df_2013_2015_prepare['지역명'].unique()"
   ]
  },
  {
   "cell_type": "code",
   "execution_count": 130,
   "metadata": {},
   "outputs": [
    {
     "data": {
      "text/plain": [
       "array(['전국', '서울', '부산', '대구', '인천', '광주', '대전', '울산', '', '경기', '수도권',\n",
       "       '세종', '강원', '충북', '충남', '전북', '전남', '경북', '경남', '제주'], dtype=object)"
      ]
     },
     "execution_count": 130,
     "metadata": {},
     "output_type": "execute_result"
    }
   ],
   "source": [
    "df_2013_2015_region"
   ]
  },
  {
   "cell_type": "code",
   "execution_count": 131,
   "metadata": {},
   "outputs": [
    {
     "data": {
      "text/plain": [
       "array(['서울', '인천', '경기', '부산', '대구', '광주', '대전', '울산', '세종', '강원', '충북',\n",
       "       '충남', '전북', '전남', '경북', '경남', '제주'], dtype=object)"
      ]
     },
     "execution_count": 131,
     "metadata": {},
     "output_type": "execute_result"
    }
   ],
   "source": [
    "df_2015_2018_region = df_2015_2018_prepare['지역명'].unique()\n",
    "df_2015_2018_region"
   ]
  },
  {
   "cell_type": "code",
   "execution_count": 132,
   "metadata": {},
   "outputs": [
    {
     "data": {
      "text/plain": [
       "['전국', '', '수도권']"
      ]
     },
     "execution_count": 132,
     "metadata": {},
     "output_type": "execute_result"
    }
   ],
   "source": [
    "exclude_region = [region for region in df_2013_2015_region if not region in df_2015_2018_region]\n",
    "exclude_region"
   ]
  },
  {
   "cell_type": "code",
   "execution_count": 133,
   "metadata": {},
   "outputs": [],
   "source": [
    "df_2013_2018.drop(df_2013_2018.loc[df_2013_2018['지역명'].str.match('전국|수도권')].index,axis = 0 , inplace = True)\n",
    "df_2013_2018.drop(df_2013_2018.loc[df_2013_2018['지역명']==''].index,axis = 0 , inplace = True)"
   ]
  },
  {
   "cell_type": "code",
   "execution_count": 135,
   "metadata": {},
   "outputs": [
    {
     "data": {
      "text/plain": [
       "(933, 4)"
      ]
     },
     "execution_count": 135,
     "metadata": {},
     "output_type": "execute_result"
    }
   ],
   "source": [
    "df_2013_2018.shape"
   ]
  },
  {
   "cell_type": "code",
   "execution_count": 136,
   "metadata": {},
   "outputs": [
    {
     "name": "stderr",
     "output_type": "stream",
     "text": [
      "C:\\ProgramData\\Anaconda3\\lib\\site-packages\\plotnine\\layer.py:449: UserWarning: geom_bar : Removed 17 rows containing missing values.\n",
      "  self.data = self.geom.handle_na(self.data)\n"
     ]
    },
    {
     "data": {
      "image/png": "[encoded data removed]",
      "text/plain": [
       "<Figure size 640x480 with 1 Axes>"
      ]
     },
     "metadata": {},
     "output_type": "display_data"
    },
    {
     "data": {
      "text/plain": [
       "<ggplot: (-9223371932750980955)>"
      ]
     },
     "execution_count": 136,
     "metadata": {},
     "output_type": "execute_result"
    }
   ],
   "source": [
    "(ggplot(df_2013_2018 , aes(x='연도',y='평당분양가격'))\n",
    "+geom_bar(stat = 'identity', position='dodge')\n",
    ")"
   ]
  },
  {
   "cell_type": "code",
   "execution_count": 137,
   "metadata": {},
   "outputs": [
    {
     "name": "stderr",
     "output_type": "stream",
     "text": [
      "C:\\ProgramData\\Anaconda3\\lib\\site-packages\\plotnine\\layer.py:449: UserWarning: geom_bar : Removed 17 rows containing missing values.\n",
      "  self.data = self.geom.handle_na(self.data)\n"
     ]
    },
    {
     "data": {
      "image/png": "[encoded data removed]",
      "text/plain": [
       "<Figure size 640x480 with 1 Axes>"
      ]
     },
     "metadata": {},
     "output_type": "display_data"
    },
    {
     "data": {
      "text/plain": [
       "<ggplot: (104104416127)>"
      ]
     },
     "execution_count": 137,
     "metadata": {},
     "output_type": "execute_result"
    }
   ],
   "source": [
    "(ggplot(df_2013_2018 , aes(x='지역명',y='평당분양가격',fill='연도'))\n",
    "+geom_bar(stat = 'identity', position='dodge')\n",
    ")"
   ]
  },
  {
   "cell_type": "code",
   "execution_count": 138,
   "metadata": {},
   "outputs": [
    {
     "name": "stderr",
     "output_type": "stream",
     "text": [
      "C:\\ProgramData\\Anaconda3\\lib\\site-packages\\plotnine\\layer.py:360: UserWarning: stat_boxplot : Removed 17 rows containing non-finite values.\n",
      "  data = self.stat.compute_layer(data, params, layout)\n"
     ]
    },
    {
     "data": {
      "image/png": "[encoded data removed]",
      "text/plain": [
       "<Figure size 640x480 with 1 Axes>"
      ]
     },
     "metadata": {},
     "output_type": "display_data"
    },
    {
     "data": {
      "text/plain": [
       "<ggplot: (104104873122)>"
      ]
     },
     "execution_count": 138,
     "metadata": {},
     "output_type": "execute_result"
    }
   ],
   "source": [
    "(ggplot(df_2015_2018_prepare)\n",
    "+aes(x='연도',y='평당분양가격')\n",
    "+geom_boxplot()\n",
    ")"
   ]
  },
  {
   "cell_type": "code",
   "execution_count": 139,
   "metadata": {},
   "outputs": [
    {
     "name": "stderr",
     "output_type": "stream",
     "text": [
      "C:\\ProgramData\\Anaconda3\\lib\\site-packages\\plotnine\\layer.py:360: UserWarning: stat_boxplot : Removed 17 rows containing non-finite values.\n",
      "  data = self.stat.compute_layer(data, params, layout)\n"
     ]
    },
    {
     "data": {
      "image/png": "[encoded data removed]",
      "text/plain": [
       "<Figure size 640x480 with 1 Axes>"
      ]
     },
     "metadata": {},
     "output_type": "display_data"
    },
    {
     "data": {
      "text/plain": [
       "<ggplot: (104104875384)>"
      ]
     },
     "execution_count": 139,
     "metadata": {},
     "output_type": "execute_result"
    }
   ],
   "source": [
    "(ggplot(df_2013_2018)\n",
    "+aes(x='연도',y='평당분양가격')\n",
    "+geom_boxplot()\n",
    ")"
   ]
  },
  {
   "cell_type": "code",
   "execution_count": 140,
   "metadata": {},
   "outputs": [
    {
     "name": "stderr",
     "output_type": "stream",
     "text": [
      "C:\\ProgramData\\Anaconda3\\lib\\site-packages\\plotnine\\layer.py:360: UserWarning: stat_boxplot : Removed 1 rows containing non-finite values.\n",
      "  data = self.stat.compute_layer(data, params, layout)\n"
     ]
    },
    {
     "data": {
      "image/png": "[encoded data removed]",
      "text/plain": [
       "<Figure size 640x480 with 1 Axes>"
      ]
     },
     "metadata": {},
     "output_type": "display_data"
    },
    {
     "data": {
      "text/plain": [
       "<ggplot: (-9223371932747935509)>"
      ]
     },
     "execution_count": 140,
     "metadata": {},
     "output_type": "execute_result"
    }
   ],
   "source": [
    "df_2013_2018_jeju = df_2013_2018.loc[df_2013_2018['지역명'] == '제주']\n",
    "(ggplot(df_2013_2018_jeju)\n",
    "+aes(x='연도',y='평당분양가격')\n",
    "+geom_boxplot()\n",
    ")"
   ]
  },
  {
   "cell_type": "code",
   "execution_count": 141,
   "metadata": {},
   "outputs": [
    {
     "name": "stderr",
     "output_type": "stream",
     "text": [
      "C:\\ProgramData\\Anaconda3\\lib\\site-packages\\plotnine\\layer.py:360: UserWarning: stat_boxplot : Removed 17 rows containing non-finite values.\n",
      "  data = self.stat.compute_layer(data, params, layout)\n"
     ]
    },
    {
     "data": {
      "image/png": "[encoded data removed]",
      "text/plain": [
       "<Figure size 640x480 with 17 Axes>"
      ]
     },
     "metadata": {},
     "output_type": "display_data"
    },
    {
     "data": {
      "text/plain": [
       "<ggplot: (104105880538)>"
      ]
     },
     "execution_count": 141,
     "metadata": {},
     "output_type": "execute_result"
    }
   ],
   "source": [
    "(ggplot(df_2013_2018)\n",
    "+aes(x='연도',y='평당분양가격')\n",
    "+geom_boxplot()\n",
    " +facet_wrap('지역명')\n",
    ")"
   ]
  },
  {
   "cell_type": "code",
   "execution_count": null,
   "metadata": {},
   "outputs": [],
   "source": []
  }
 ],
 "metadata": {
  "kernelspec": {
   "display_name": "Python 3",
   "language": "python",
   "name": "python3"
  },
  "language_info": {
   "codemirror_mode": {
    "name": "ipython",
    "version": 3
   },
   "file_extension": ".py",
   "mimetype": "text/x-python",
   "name": "python",
   "nbconvert_exporter": "python",
   "pygments_lexer": "ipython3",
   "version": "3.7.1"
  }
 },
 "nbformat": 4,
 "nbformat_minor": 2
}
